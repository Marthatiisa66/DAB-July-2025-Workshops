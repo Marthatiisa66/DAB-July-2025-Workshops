{
 "cells": [
  {
   "cell_type": "markdown",
   "id": "43e73974-eac4-48fd-a4be-557ab49755f5",
   "metadata": {},
   "source": [
    "### Week 2 Workshop \n",
    "### Martha Nakalembe\n",
    "### August,8 2025 "
   ]
  },
  {
   "cell_type": "code",
   "execution_count": 4,
   "id": "6729acdd-44d5-4667-bc50-8651da4b03d0",
   "metadata": {},
   "outputs": [
    {
     "name": "stdout",
     "output_type": "stream",
     "text": [
      "-2 is negative\n"
     ]
    }
   ],
   "source": [
    "## Part 1: Conditional Statements\n",
    "## Check if number is positive, negative, or zero\n",
    "\n",
    "number = -2\n",
    "if number > 0:\n",
    "    print(f\"{number} is positive\")\n",
    "elif number < 0:\n",
    "    print(f\"{number} is negative\")\n",
    "else: \n",
    "    print(f\"{number} is zero\")"
   ]
  },
  {
   "cell_type": "code",
   "execution_count": 10,
   "id": "012bb537-ebcf-4fe6-93b3-a698a31ede12",
   "metadata": {},
   "outputs": [
    {
     "name": "stdout",
     "output_type": "stream",
     "text": [
      "Score: 95, Grade: A\n",
      "Score: 82, Grade: B\n",
      "Score: 72, Grade: C\n",
      "Score: 65, Grade: D\n",
      "Score: 55, Grade: F\n"
     ]
    }
   ],
   "source": [
    "#### Exercise 1: Grade Calculator\n",
    "## Write a program that converts a numerical score to a letter grade.\n",
    "# 90-100:A\n",
    "# 80-89: B\n",
    "#70-79: C\n",
    "# 60-69: D\n",
    "# Below 60: F\n",
    "\n",
    "def calculate_grade(score):\n",
    "    if score >= 90:\n",
    "        return \"A\"\n",
    "    elif score >= 80:\n",
    "        return \"B\"\n",
    "    elif score >= 70:\n",
    "        return \"C\"\n",
    "    elif score >= 60:\n",
    "        return \"D\"\n",
    "    else:\n",
    "        return \"F\"\n",
    "\n",
    "test_score = [95, 82, 72, 65, 55]\n",
    "for score in test_score:\n",
    "    print(f\"Score: {score}, Grade: {calculate_grade(score)}\")"
   ]
  },
  {
   "cell_type": "code",
   "execution_count": 43,
   "id": "82b4ab9b-8d4b-44e5-a5a2-467d68f880e3",
   "metadata": {},
   "outputs": [
    {
     "name": "stdout",
     "output_type": "stream",
     "text": [
      "Original price: $50, Final price: $50\n",
      "Original price: $150, Final price: $135.0\n",
      "Original price: $600, Final price: $480.0\n",
      "Original price: $1200, Final price: $840.0\n"
     ]
    }
   ],
   "source": [
    "### Exerise 2: Discount Calculator\n",
    "# Write a function that calculates the final price after applying a discount\n",
    "# If the purchase amount is $100 or more, apply a 10% discount\n",
    "# If the purchase amount is $500 or more, apply a 20% discount\n",
    "\n",
    "def calculate_discount(purchase_amount):\n",
    "   \n",
    "    if purchase_amount >= 1000:\n",
    "        discount = 0.3\n",
    "    elif purchase_amount >= 500:\n",
    "        discount = 0.2\n",
    "    elif purchase_amount >= 100:\n",
    "        discount = 0.1\n",
    "    else:\n",
    "        discount = 0\n",
    "\n",
    "    discount_amount = purchase_amount * discount\n",
    "    final_price = purchase_amount - discount_amount\n",
    "    return final_price\n",
    "\n",
    "   \n",
    "purchase_amounts = [50, 150, 600, 1200]\n",
    "for amount in purchase_amounts: \n",
    "        print(f\"Original price: ${amount}, Final price: ${calculate_discount(amount)}\")\n",
    "    "
   ]
  },
  {
   "cell_type": "code",
   "execution_count": 40,
   "id": "f117ca58-381d-4329-82b4-db2976154a42",
   "metadata": {},
   "outputs": [],
   "source": [
    "#### Part 2: Functions \n",
    "#### Basic Function definition\n",
    "\n",
    "def greet(name):\n",
    "    \"\"\" A simple function that greets a person by name\"\"\"\n",
    "    return f\"Hello, {name}!\""
   ]
  },
  {
   "cell_type": "code",
   "execution_count": 41,
   "id": "c1a61fce-c239-4b94-a970-c1f876654d1d",
   "metadata": {},
   "outputs": [
    {
     "data": {
      "text/plain": [
       "'Hello, Data Analyst!'"
      ]
     },
     "execution_count": 41,
     "metadata": {},
     "output_type": "execute_result"
    }
   ],
   "source": [
    "greet(\"Data Analyst\")"
   ]
  },
  {
   "cell_type": "code",
   "execution_count": 42,
   "id": "f21a3d7a-f30c-49c2-8ad3-4917722925ed",
   "metadata": {},
   "outputs": [
    {
     "data": {
      "text/plain": [
       "'Hello, Martha!'"
      ]
     },
     "execution_count": 42,
     "metadata": {},
     "output_type": "execute_result"
    }
   ],
   "source": [
    "greet(\"Martha\")"
   ]
  },
  {
   "cell_type": "code",
   "execution_count": 48,
   "id": "ff0f8e05-400b-4d7b-95d2-c2d154289943",
   "metadata": {},
   "outputs": [
    {
     "name": "stdout",
     "output_type": "stream",
     "text": [
      "0°C = 32.0°F\n",
      "25°C = 77.0°F\n",
      "37°C = 98.6°F\n",
      "100°C = 212.0°F\n"
     ]
    }
   ],
   "source": [
    "### Exercise 3: Temperature Converter\n",
    "# Write a function that converts temperature from Celsius to Fahrenheit\n",
    "# Formula: F = C * 9/5 + 32\n",
    "\n",
    "def celsius_to_fahrenheit(celsius):\n",
    "    fahrenheit = celsius * 9/5 + 32 \n",
    "    return fahrenheit \n",
    "    \n",
    "    \n",
    "\n",
    "# Test your function\n",
    "temperatures_c = [0, 25, 37, 100]\n",
    "for temp in temperatures_c:\n",
    "    print(f\"{temp}°C = {celsius_to_fahrenheit(temp):.1f}°F\")"
   ]
  },
  {
   "cell_type": "code",
   "execution_count": 57,
   "id": "fa7509f1-3bd8-4f84-9e23-ea65b7011886",
   "metadata": {},
   "outputs": [
    {
     "name": "stdout",
     "output_type": "stream",
     "text": [
      "15\n",
      "5\n",
      "50\n",
      "2.0\n"
     ]
    },
    {
     "ename": "ZeroDivisionError",
     "evalue": "division by zero",
     "output_type": "error",
     "traceback": [
      "\u001b[0;31m---------------------------------------------------------------------------\u001b[0m",
      "\u001b[0;31mZeroDivisionError\u001b[0m                         Traceback (most recent call last)",
      "Cell \u001b[0;32mIn[57], line 23\u001b[0m\n\u001b[1;32m     21\u001b[0m \u001b[38;5;28mprint\u001b[39m(calculator(\u001b[38;5;241m10\u001b[39m, \u001b[38;5;241m5\u001b[39m, \u001b[38;5;124m\"\u001b[39m\u001b[38;5;124mmultiply\u001b[39m\u001b[38;5;124m\"\u001b[39m)) \u001b[38;5;66;03m# Should return 50\u001b[39;00m\n\u001b[1;32m     22\u001b[0m \u001b[38;5;28mprint\u001b[39m(calculator(\u001b[38;5;241m10\u001b[39m, \u001b[38;5;241m5\u001b[39m, \u001b[38;5;124m\"\u001b[39m\u001b[38;5;124mdivide\u001b[39m\u001b[38;5;124m\"\u001b[39m))   \u001b[38;5;66;03m# Should return 2\u001b[39;00m\n\u001b[0;32m---> 23\u001b[0m \u001b[38;5;28mprint\u001b[39m(calculator(\u001b[38;5;241m10\u001b[39m, \u001b[38;5;241m0\u001b[39m, \u001b[38;5;124m\"\u001b[39m\u001b[38;5;124mdivide\u001b[39m\u001b[38;5;124m\"\u001b[39m))\n",
      "Cell \u001b[0;32mIn[57], line 14\u001b[0m, in \u001b[0;36mcalculator\u001b[0;34m(num1, num2, operation)\u001b[0m\n\u001b[1;32m     12\u001b[0m     \u001b[38;5;28;01mreturn\u001b[39;00m num1 \u001b[38;5;241m*\u001b[39m num2\n\u001b[1;32m     13\u001b[0m \u001b[38;5;28;01melif\u001b[39;00m operation \u001b[38;5;241m==\u001b[39m \u001b[38;5;124m'\u001b[39m\u001b[38;5;124mdivide\u001b[39m\u001b[38;5;124m'\u001b[39m:\n\u001b[0;32m---> 14\u001b[0m     \u001b[38;5;28;01mreturn\u001b[39;00m num1 \u001b[38;5;241m/\u001b[39m num2 \n\u001b[1;32m     15\u001b[0m \u001b[38;5;28;01melse\u001b[39;00m:\n\u001b[1;32m     16\u001b[0m     \u001b[38;5;28;01mreturn\u001b[39;00m \u001b[38;5;124m'\u001b[39m\u001b[38;5;124mError: Unknown operation\u001b[39m\u001b[38;5;124m'\u001b[39m\n",
      "\u001b[0;31mZeroDivisionError\u001b[0m: division by zero"
     ]
    }
   ],
   "source": [
    "### Exercise 4: Calculator Function\n",
    "# Wrie a function that takes two numbers and an operation as parameters\n",
    "# Supported operation: add,subtract, multiply, divide\n",
    "# Return the result of the operation \n",
    "\n",
    "def calculator(num1, num2, operation):\n",
    "    if operation == 'add':\n",
    "        return num1 + num2\n",
    "    elif operation == 'subtract':\n",
    "        return num1 - num2\n",
    "    elif operation == 'multiply':\n",
    "        return num1 * num2\n",
    "    elif operation == 'divide':\n",
    "        return num1 / num2 \n",
    "    else:\n",
    "        return 'Error: Unknown operation'\n",
    "\n",
    "    # Test your function\n",
    "print(calculator(10, 5, \"add\"))      # Should return 15\n",
    "print(calculator(10, 5, \"subtract\")) # Should return 5\n",
    "print(calculator(10, 5, \"multiply\")) # Should return 50\n",
    "print(calculator(10, 5, \"divide\"))   # Should return 2\n",
    "print(calculator(10, 0, \"divide\"))   # Should return an error\n",
    "\n"
   ]
  },
  {
   "cell_type": "code",
   "execution_count": 56,
   "id": "b3b40736-3900-494f-9132-b5714cf194f7",
   "metadata": {},
   "outputs": [
    {
     "name": "stdout",
     "output_type": "stream",
     "text": [
      "original list ['apple', 'banana', 'cherry', 'date']\n",
      "First fruit: apple\n",
      "Last fruit: date\n",
      "After modification: ['apple', 'blueberry', 'cherry', 'date']\n",
      "After append: ['apple', 'blueberry', 'cherry', 'date', 'elderberry']\n",
      "Removed apple, List now: ['blueberry', 'cherry', 'date', 'elderberry']\n"
     ]
    }
   ],
   "source": [
    "## Part 3: Lists \n",
    "\n",
    "### Basic list operations \n",
    "fruits = ['apple', 'banana', 'cherry', 'date']\n",
    "print ('original list', fruits)\n",
    "\n",
    "# Accessing elements\n",
    "print(\"First fruit:\", fruits[0])\n",
    "print(\"Last fruit:\", fruits[-1])\n",
    "\n",
    "# Modifying the list\n",
    "fruits[1] = \"blueberry\"\n",
    "print(\"After modification:\", fruits)\n",
    "\n",
    "# Adding elements\n",
    "fruits.append(\"elderberry\")\n",
    "print(\"After append:\", fruits)\n",
    "\n",
    "# Removing elements\n",
    "removed_fruit = fruits.pop(0)\n",
    "print(f\"Removed {removed_fruit}, List now:\", fruits)\n"
   ]
  },
  {
   "cell_type": "code",
   "execution_count": 1,
   "id": "e24d10ca-1ecc-4ee8-8640-1232a79284c2",
   "metadata": {},
   "outputs": [
    {
     "name": "stdout",
     "output_type": "stream",
     "text": [
      "Statistics: {'min': 5, 'max': 42, 'average': 17.666666666666668, 'sum': 106}\n"
     ]
    }
   ],
   "source": [
    "### Exercise 5: List Statistics\n",
    "# Write a function that takes a list of numbers and returns a dictionary with:\n",
    "# - The minimum value\n",
    "# - The maximum value\n",
    "# - The average value\n",
    "# - The sum of all values\n",
    "\n",
    "def calculate_statistics(numbers):\n",
    "    if not numbers:\n",
    "        return {\n",
    "            \"min\": None,\n",
    "            \"max\": None,\n",
    "            \"average\": None,\n",
    "            \"sum\": None\n",
    "        }\n",
    "    \n",
    "    return {\n",
    "        \"min\": min(numbers),\n",
    "        \"max\": max(numbers),\n",
    "        \"average\": sum(numbers) / len(numbers),\n",
    "        \"sum\": sum(numbers)\n",
    "    }\n",
    "test_numbers = [5, 12, 8, 42, 23, 16]\n",
    "stats = calculate_statistics(test_numbers)\n",
    "print(\"Statistics:\", stats)"
   ]
  },
  {
   "cell_type": "code",
   "execution_count": 58,
   "id": "b18f5583-5503-4bea-83b7-2a4ff185963a",
   "metadata": {},
   "outputs": [
    {
     "name": "stdout",
     "output_type": "stream",
     "text": [
      "Even numbers: [2, 4, 6, 8, 10]\n"
     ]
    }
   ],
   "source": [
    "### Exercise 6: List Filtering\n",
    "# Write a function that takes a list of numbers and returns a new list containing only even numbers\n",
    "\n",
    "def filter_even_numbers(numbers):\n",
    "    return [num for num in numbers if num % 2 == 0]\n",
    "\n",
    "    # Test your function\n",
    "numbers = [1, 2, 3, 4, 5, 6, 7, 8, 9, 10]\n",
    "even_numbers = filter_even_numbers(numbers)\n",
    "print(\"Even numbers:\", even_numbers)\n",
    "    "
   ]
  },
  {
   "cell_type": "code",
   "execution_count": 1,
   "id": "3bb91e12-45af-451c-a892-783bca8450b5",
   "metadata": {},
   "outputs": [
    {
     "name": "stdout",
     "output_type": "stream",
     "text": [
      "Student info: {'name': 'Patra', 'age': 22, 'major': 'Data Science', 'gpa': 3.8}\n",
      "Name: Patra\n",
      "Major: Data Science\n",
      "Updated student info: {'name': 'Patra', 'age': 22, 'major': 'Data Science', 'gpa': 3.9, 'year': 'Senior'}\n",
      "Removed age: 22, Student info now: {'name': 'Patra', 'major': 'Data Science', 'gpa': 3.9, 'year': 'Senior'}\n"
     ]
    }
   ],
   "source": [
    "## Part 4: Dictionaries\n",
    "### Basic dictionary operations\n",
    "student = {\n",
    "    \"name\": \"Patra\",\n",
    "    \"age\": 22,\n",
    "    \"major\": \"Data Science\",\n",
    "    \"gpa\": 3.8\n",
    "}\n",
    "\n",
    "print(\"Student info:\", student)\n",
    "\n",
    "# Accessing values\n",
    "print(\"Name:\", student[\"name\"])\n",
    "print(\"Major:\", student.get(\"major\"))\n",
    "\n",
    "# Adding or modifying key-value pairs\n",
    "student[\"year\"] = \"Senior\"\n",
    "student[\"gpa\"] = 3.9\n",
    "print(\"Updated student info:\", student)\n",
    "\n",
    "# Removing key-value pairs\n",
    "removed_age = student.pop(\"age\")\n",
    "print(f\"Removed age: {removed_age}, Student info now:\", student)"
   ]
  },
  {
   "cell_type": "code",
   "execution_count": 8,
   "id": "a421c17e-1733-463f-83f7-e693d7d52acc",
   "metadata": {},
   "outputs": [
    {
     "name": "stdout",
     "output_type": "stream",
     "text": [
      "Word counts: {'the': 4, 'quick': 2, 'brown': 1, 'fox': 2, 'jumps': 1, 'over': 1, 'lazy': 2, 'dog': 2, 'was': 2, 'and': 1}\n"
     ]
    }
   ],
   "source": [
    "### Exercise 7: Word Counter\n",
    "# Write a function that takes a string and returns a dictionary with each word as a key\n",
    "# and the number of occurrences as the value\n",
    "\n",
    "\n",
    "def count_words(text):\n",
    "    text = text.lower().replace(\".\",\"\")\n",
    "    separate_words = text.split()\n",
    "    word_count = {}\n",
    "    for word in separate_words:\n",
    "        # Fixed: Changed word_counts to word_count to match the dictionary name\n",
    "        if word in word_count:\n",
    "            word_count[word] = word_count[word] + 1\n",
    "        else:\n",
    "            word_count[word] = 1\n",
    "    return word_count\n",
    "    \n",
    "\n",
    "# Test your function\n",
    "sample_text = \"The quick brown fox jumps over the lazy dog. The fox was quick and the dog was lazy.\"\n",
    "word_counts = count_words(sample_text)\n",
    "print(\"Word counts:\", word_counts)"
   ]
  },
  {
   "cell_type": "code",
   "execution_count": 12,
   "id": "c49abe9f-4479-43d8-90d4-ed6380635da3",
   "metadata": {},
   "outputs": [
    {
     "name": "stdout",
     "output_type": "stream",
     "text": [
      "Contact Alice added \n",
      "Contact Bob added \n",
      "{'phone': '555-1234', 'email': 'alice@example.com'}\n",
      "Contact Alice updated \n",
      "{'phone': '555-1234', 'email': 'alice.new@example.com'}\n",
      "Contact Charlie not found\n"
     ]
    }
   ],
   "source": [
    "### Exercise 8: Contact Manager\n",
    "# Create a small contact manager that lets you add, update, and retrieve contact information\n",
    "\n",
    "contact_book = {}\n",
    "\n",
    "def add_contact(name, phone, email=None):\n",
    "    contact_book[name] = {\"phone\": phone, \"email\": email}\n",
    "    return f\"Contact {name} added \"\n",
    "\n",
    "def update_contact(name, phone=None, email=None):\n",
    "    if name not in contact_book:\n",
    "        return f\"Contact {name} not found\"\n",
    "    \n",
    "    if phone:\n",
    "        contact_book[name][\"phone\"] = phone\n",
    "    if email:\n",
    "        contact_book[name][\"email\"] = email\n",
    "    return f\"Contact {name} updated \"\n",
    "\n",
    "def get_contact(name):\n",
    "    return contact_book.get(name, f\"Contact {name} not found\")\n",
    "\n",
    "# Test your contact manager\n",
    "print(add_contact(\"Alice\", \"555-1234\", \"alice@example.com\"))\n",
    "print(add_contact(\"Bob\", \"555-5678\"))\n",
    "print(get_contact(\"Alice\"))\n",
    "print(update_contact(\"Alice\", email=\"alice.new@example.com\"))\n",
    "print(get_contact(\"Alice\"))\n",
    "print(get_contact(\"Charlie\"))"
   ]
  },
  {
   "cell_type": "code",
   "execution_count": 11,
   "id": "e471f534-01b0-4a16-b9eb-71a88e65a70f",
   "metadata": {},
   "outputs": [
    {
     "name": "stdout",
     "output_type": "stream",
     "text": [
      "Iterating through a list:\n",
      "Color: red\n",
      "Color: green\n",
      "Color: blue\n",
      "Color: yellow\n",
      "\n",
      "Using range():\n",
      "Number: 0\n",
      "Number: 1\n",
      "Number: 2\n",
      "Number: 3\n",
      "Number: 4\n",
      "\n",
      "Using a while loop:\n",
      "Count: 0\n",
      "Count: 1\n",
      "Count: 2\n",
      "Count: 3\n",
      "Count: 4\n"
     ]
    }
   ],
   "source": [
    "## Part 5: Loops\n",
    "### For loop with a list\n",
    "print(\"Iterating through a list:\")\n",
    "colors = [\"red\", \"green\", \"blue\", \"yellow\"]\n",
    "for color in colors:\n",
    "    print(f\"Color: {color}\")\n",
    "\n",
    "### For loop with range\n",
    "print(\"\\nUsing range():\")\n",
    "for i in range(5):\n",
    "    print(f\"Number: {i}\")\n",
    "\n",
    "### While loop\n",
    "print(\"\\nUsing a while loop:\")\n",
    "count = 0\n",
    "while count < 5:\n",
    "    print(f\"Count: {count}\")\n",
    "    count += 1"
   ]
  },
  {
   "cell_type": "code",
   "execution_count": 13,
   "id": "587bacb1-955d-40a2-8bef-46a5034c3f05",
   "metadata": {},
   "outputs": [
    {
     "name": "stdout",
     "output_type": "stream",
     "text": [
      "Factorial of 0 = 1\n",
      "Factorial of 1 = 1\n",
      "Factorial of 2 = 2\n",
      "Factorial of 3 = 6\n",
      "Factorial of 4 = 24\n",
      "Factorial of 5 = 120\n"
     ]
    }
   ],
   "source": [
    "### Exercise 9: Factorial Calculator\n",
    "# Write a function that calculates the factorial of a number using a loop\n",
    "# Factorial of n = n * (n-1) * (n-2) * ... * 1\n",
    "\n",
    "def factorial(n):\n",
    "    result = 1\n",
    "    for count in range(1, n + 1):\n",
    "        result = result * count \n",
    "    return result \n",
    "  \n",
    "    \n",
    "\n",
    "# Test your function\n",
    "for num in range(6):\n",
    "    print(f\"Factorial of {num} = {factorial(num)}\")"
   ]
  },
  {
   "cell_type": "code",
   "execution_count": 14,
   "id": "967f59ba-7837-49f4-a495-b1fc7536bbb5",
   "metadata": {},
   "outputs": [
    {
     "name": "stdout",
     "output_type": "stream",
     "text": [
      "\n",
      "Student Analysis:\n",
      "Individual Averages:\n",
      "  Alice: 90.00\n",
      "  Bob: 86.50\n",
      "  Charlie: 94.00\n",
      "  David: 85.75\n",
      "Top Student: Charlie with average of 94.00\n"
     ]
    }
   ],
   "source": [
    "### Exercise 10: Data Analysis\n",
    "# You're given a list of dictionaries, each representing a student's score on different tests.\n",
    "# Calculate the average score for each student and identify the student with the highest average.\n",
    "\n",
    "students_data = [\n",
    "    {\"name\": \"Alice\", \"scores\": [88, 92, 95, 85]},\n",
    "    {\"name\": \"Bob\", \"scores\": [90, 87, 88, 81]},\n",
    "    {\"name\": \"Charlie\", \"scores\": [92, 95, 96, 93]},\n",
    "    {\"name\": \"David\", \"scores\": [78, 85, 91, 89]}\n",
    "]\n",
    "\n",
    "def analyze_student_scores(students):\n",
    "    results = {}\n",
    "    highest_avg = 0\n",
    "    top_student = None\n",
    "    \n",
    "    for student in students:\n",
    "        name = student[\"name\"]\n",
    "        scores = student[\"scores\"]\n",
    "        avg_score = sum(scores) / len(scores)\n",
    "        results[name] = avg_score\n",
    "        \n",
    "        if avg_score > highest_avg:\n",
    "            highest_avg = avg_score\n",
    "            top_student = name\n",
    "    \n",
    "    return {\n",
    "        \"individual_averages\": results,\n",
    "        \"top_student\": top_student,\n",
    "        \"top_average\": highest_avg\n",
    "    }\n",
    "\n",
    "# Test your function\n",
    "analysis = analyze_student_scores(students_data)\n",
    "print(\"\\nStudent Analysis:\")\n",
    "print(\"Individual Averages:\")\n",
    "for name, avg in analysis[\"individual_averages\"].items():\n",
    "    print(f\"  {name}: {avg:.2f}\")\n",
    "print(f\"Top Student: {analysis['top_student']} with average of {analysis['top_average']:.2f}\")"
   ]
  },
  {
   "cell_type": "code",
   "execution_count": 15,
   "id": "f01b618c-1c24-4771-8538-4c3775736289",
   "metadata": {},
   "outputs": [
    {
     "name": "stdout",
     "output_type": "stream",
     "text": [
      "\n",
      "Sales Analysis:\n",
      "Monthly Sales:\n",
      "  Jan: $3030\n",
      "  Feb: $3420\n",
      "  Mar: $3580\n",
      "\n",
      "Category Sales:\n",
      "  Electronics: $4250\n",
      "  Books: $2550\n",
      "  Clothing: $3230\n",
      "\n",
      "Best Month: Mar with $3580\n",
      "Best Category: Electronics with $4250\n",
      "Total Sales: $10030\n"
     ]
    }
   ],
   "source": [
    "## Final Challenge: Sales Data Analysis\n",
    "\n",
    "# You're given a list of dictionaries representing monthly sales data for a store.\n",
    "# Each dictionary contains the month, category, and sales amount.\n",
    "\n",
    "sales_data = [\n",
    "    {\"month\": \"Jan\", \"category\": \"Electronics\", \"amount\": 1200},\n",
    "    {\"month\": \"Jan\", \"category\": \"Books\", \"amount\": 850},\n",
    "    {\"month\": \"Jan\", \"category\": \"Clothing\", \"amount\": 980},\n",
    "    {\"month\": \"Feb\", \"category\": \"Electronics\", \"amount\": 1450},\n",
    "    {\"month\": \"Feb\", \"category\": \"Books\", \"amount\": 920},\n",
    "    {\"month\": \"Feb\", \"category\": \"Clothing\", \"amount\": 1050},\n",
    "    {\"month\": \"Mar\", \"category\": \"Electronics\", \"amount\": 1600},\n",
    "    {\"month\": \"Mar\", \"category\": \"Books\", \"amount\": 780},\n",
    "    {\"month\": \"Mar\", \"category\": \"Clothing\", \"amount\": 1200}\n",
    "]\n",
    "\n",
    "def analyze_sales(sales):\n",
    "    # Calculate total sales per month\n",
    "    monthly_sales = {}\n",
    "    for item in sales:\n",
    "        month = item[\"month\"]\n",
    "        amount = item[\"amount\"]\n",
    "        if month in monthly_sales:\n",
    "            monthly_sales[month] += amount\n",
    "        else:\n",
    "            monthly_sales[month] = amount\n",
    "    \n",
    "    # Calculate total sales per category\n",
    "    category_sales = {}\n",
    "    for item in sales:\n",
    "        category = item[\"category\"]\n",
    "        amount = item[\"amount\"]\n",
    "        if category in category_sales:\n",
    "            category_sales[category] += amount\n",
    "        else:\n",
    "            category_sales[category] = amount\n",
    "    \n",
    "    # Find best performing month and category\n",
    "    best_month = max(monthly_sales, key=monthly_sales.get)\n",
    "    best_category = max(category_sales, key=category_sales.get)\n",
    "    \n",
    "    # Calculate overall total sales\n",
    "    total_sales = sum(item[\"amount\"] for item in sales)\n",
    "    \n",
    "    return {\n",
    "        \"monthly_sales\": monthly_sales,\n",
    "        \"category_sales\": category_sales,\n",
    "        \"best_month\": best_month,\n",
    "        \"best_category\": best_category,\n",
    "        \"total_sales\": total_sales\n",
    "    }\n",
    "\n",
    "# Test your analysis function\n",
    "sales_analysis = analyze_sales(sales_data)\n",
    "print(\"\\nSales Analysis:\")\n",
    "print(\"Monthly Sales:\")\n",
    "for month, amount in sales_analysis[\"monthly_sales\"].items():\n",
    "    print(f\"  {month}: ${amount}\")\n",
    "print(\"\\nCategory Sales:\")\n",
    "for category, amount in sales_analysis[\"category_sales\"].items():\n",
    "    print(f\"  {category}: ${amount}\")\n",
    "print(f\"\\nBest Month: {sales_analysis['best_month']} with ${sales_analysis['monthly_sales'][sales_analysis['best_month']]}\")\n",
    "print(f\"Best Category: {sales_analysis['best_category']} with ${sales_analysis['category_sales'][sales_analysis['best_category']]}\")\n",
    "print(f\"Total Sales: ${sales_analysis['total_sales']}\")"
   ]
  },
  {
   "cell_type": "code",
   "execution_count": null,
   "id": "7b6b9141-5ef4-4bc8-b70d-d573cea2d5cb",
   "metadata": {},
   "outputs": [],
   "source": []
  }
 ],
 "metadata": {
  "kernelspec": {
   "display_name": "Python [conda env:base] *",
   "language": "python",
   "name": "conda-base-py"
  },
  "language_info": {
   "codemirror_mode": {
    "name": "ipython",
    "version": 3
   },
   "file_extension": ".py",
   "mimetype": "text/x-python",
   "name": "python",
   "nbconvert_exporter": "python",
   "pygments_lexer": "ipython3",
   "version": "3.13.5"
  }
 },
 "nbformat": 4,
 "nbformat_minor": 5
}
