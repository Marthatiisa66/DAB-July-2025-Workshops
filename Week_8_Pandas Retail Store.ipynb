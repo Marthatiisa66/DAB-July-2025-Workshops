{
 "cells": [
  {
   "cell_type": "code",
   "execution_count": 2,
   "id": "25b01e76-5006-4fb2-a7a9-5b52bb7f9a9c",
   "metadata": {},
   "outputs": [
    {
     "name": "stdout",
     "output_type": "stream",
     "text": [
      "\n",
      "--- wk8-products.csv ---\n",
      "   product_id        product_name     category  subcategory    brand    price  \\\n",
      "0           1     Apple iPhone 13  Electronics  Smartphones    Apple   899.99   \n",
      "1           2  Samsung Galaxy S21  electronics  Smartphones  Samsung   799.99   \n",
      "2           3     Sony WH-1000XM4  ELECTRONICS   Headphones     Sony   349.99   \n",
      "3           4         Dell XPS 13  Electronics      Laptops     Dell  1299.99   \n",
      "4           5    Nike Classic Tee     Clothing       Shirts     Nike    24.99   \n",
      "\n",
      "     cost  weight  \n",
      "0  649.99    0.45  \n",
      "1  539.99    0.50  \n",
      "2  210.00    0.60  \n",
      "3  899.99    2.80  \n",
      "4   12.50    0.20  \n",
      "\n",
      "--- wk8-sales.csv ---\n",
      "   sale_id        date  store_id  customer_id  product_id  quantity    total  \\\n",
      "0        1  2022-01-15       3.0           12           5         2    49.98   \n",
      "1        2  2022-01-16       1.0            5          10         1    49.99   \n",
      "2        3  2022-01-18       2.0            8           3         1   349.99   \n",
      "3        4  2022-01-20       4.0           20           7         1   349.99   \n",
      "4        5  2022-01-22       5.0            3          15         1  1599.99   \n",
      "\n",
      "  payment_method  \n",
      "0    Credit Card  \n",
      "1    credit card  \n",
      "2     DEBIT CARD  \n",
      "3           Cash  \n",
      "4             CC  \n",
      "\n",
      "--- wk8-customers.csv ---\n",
      "   customer_id first_name last_name                  email           phone  \\\n",
      "0            1      James     Smith  james.smith@gmail.com    555-123-4567   \n",
      "1            2       Mary   Johnson                    NaN    212.555.6789   \n",
      "2            3       John  Williams    jwilliams@yahoo.com  (555) 987-6543   \n",
      "3            4   Patricia     Brown     pbrown@hotmail.com      5551234567   \n",
      "4            5     Robert     Jones     rjones23@gmail.com    555-987-3456   \n",
      "\n",
      "        address         city       state    zip_code registration_date  \n",
      "0   123 Main St     New York          NY       10001        2021-03-15  \n",
      "1  456 Park Ave     New York          NY       10022        2020-11-02  \n",
      "2  789 Broadway  Los Angeles  California  90001-1234        2021-05-20  \n",
      "3    321 Elm St      Chicago          IL       60601               NaN  \n",
      "4   555 Pine St      Houston          TX       77002        2020-09-12  \n",
      "\n",
      "--- wk8-stores.csv ---\n",
      "   store_id         store_name           address         city  state zip_code  \\\n",
      "0         1        City Center   123 Retail Blvd     New York     NY    10001   \n",
      "1         2    Mall of Chicago  456 Shopping Ave      Chicago     IL    60611   \n",
      "2         3  Los Angeles Plaza   789 Commerce St  Los Angeles     CA    90001   \n",
      "3         4   Houston Galleria       321 Main St      Houston  Texas    77002   \n",
      "4         5     Phoenix Outlet     654 Desert Rd      Phoenix     AZ    85001   \n",
      "\n",
      "      region  size_sqft opening_date  \n",
      "0  Northeast    32500.0   2005-05-20  \n",
      "1    Midwest    45000.0   2007-08-15  \n",
      "2       West    55000.0   2004-03-10  \n",
      "3  Southwest        NaN   2008-11-05  \n",
      "4  Southwest    18500.0   2010-06-30  \n",
      "\n",
      "--- wk8-inventory.csv ---\n",
      "   inventory_id  store_id  product_id  quantity_in_stock last_restock_date  \\\n",
      "0             1         1           1                 25        2022-10-15   \n",
      "1             2         1           5                 42        2022-11-02   \n",
      "2             3         1          10                 18        2022-09-30   \n",
      "3             4         1          15                  5        2022-10-20   \n",
      "4             5         1          20                 12               NaN   \n",
      "\n",
      "   reorder_level  \n",
      "0           10.0  \n",
      "1           15.0  \n",
      "2            8.0  \n",
      "3           10.0  \n",
      "4           15.0  \n"
     ]
    }
   ],
   "source": [
    "import pandas as pd\n",
    "import glob\n",
    "\n",
    "#1. Get all CSV file paths from a folder\n",
    "csv_files = glob.glob(\"*.csv\")\n",
    "\n",
    "#2. Create a dictionary of DataFrames\n",
    "dataframes = {file: pd.read_csv(file) for file in csv_files}\n",
    "\n",
    "#3. Display the first few rows of each DataFrame\n",
    "for file, df in dataframes.items():\n",
    "    print(f\"\\n--- {file} ---\")\n",
    "    print(df.head())\n"
   ]
  },
  {
   "cell_type": "code",
   "execution_count": 3,
   "id": "91d5df4c-2ed3-4142-ad9f-dd2de75d546c",
   "metadata": {},
   "outputs": [
    {
     "name": "stdout",
     "output_type": "stream",
     "text": [
      "dict_keys(['wk8-products.csv', 'wk8-sales.csv', 'wk8-customers.csv', 'wk8-stores.csv', 'wk8-inventory.csv'])\n"
     ]
    }
   ],
   "source": [
    "# See all keys (file names)\n",
    "print(dataframes.keys())"
   ]
  },
  {
   "cell_type": "code",
   "execution_count": 4,
   "id": "8cfe4d7f-8b18-495e-a915-7b92dfa72771",
   "metadata": {},
   "outputs": [
    {
     "name": "stdout",
     "output_type": "stream",
     "text": [
      "   inventory_id  store_id  product_id  quantity_in_stock last_restock_date  \\\n",
      "0             1         1           1                 25        2022-10-15   \n",
      "1             2         1           5                 42        2022-11-02   \n",
      "2             3         1          10                 18        2022-09-30   \n",
      "3             4         1          15                  5        2022-10-20   \n",
      "4             5         1          20                 12               NaN   \n",
      "\n",
      "   reorder_level  \n",
      "0           10.0  \n",
      "1           15.0  \n",
      "2            8.0  \n",
      "3           10.0  \n",
      "4           15.0  \n",
      "   sale_id        date  store_id  customer_id  product_id  quantity    total  \\\n",
      "0        1  2022-01-15       3.0           12           5         2    49.98   \n",
      "1        2  2022-01-16       1.0            5          10         1    49.99   \n",
      "2        3  2022-01-18       2.0            8           3         1   349.99   \n",
      "3        4  2022-01-20       4.0           20           7         1   349.99   \n",
      "4        5  2022-01-22       5.0            3          15         1  1599.99   \n",
      "\n",
      "  payment_method  \n",
      "0    Credit Card  \n",
      "1    credit card  \n",
      "2     DEBIT CARD  \n",
      "3           Cash  \n",
      "4             CC  \n",
      "   store_id         store_name           address         city  state zip_code  \\\n",
      "0         1        City Center   123 Retail Blvd     New York     NY    10001   \n",
      "1         2    Mall of Chicago  456 Shopping Ave      Chicago     IL    60611   \n",
      "2         3  Los Angeles Plaza   789 Commerce St  Los Angeles     CA    90001   \n",
      "3         4   Houston Galleria       321 Main St      Houston  Texas    77002   \n",
      "4         5     Phoenix Outlet     654 Desert Rd      Phoenix     AZ    85001   \n",
      "\n",
      "      region  size_sqft opening_date  \n",
      "0  Northeast    32500.0   2005-05-20  \n",
      "1    Midwest    45000.0   2007-08-15  \n",
      "2       West    55000.0   2004-03-10  \n",
      "3  Southwest        NaN   2008-11-05  \n",
      "4  Southwest    18500.0   2010-06-30  \n",
      "   customer_id first_name last_name                  email           phone  \\\n",
      "0            1      James     Smith  james.smith@gmail.com    555-123-4567   \n",
      "1            2       Mary   Johnson                    NaN    212.555.6789   \n",
      "2            3       John  Williams    jwilliams@yahoo.com  (555) 987-6543   \n",
      "3            4   Patricia     Brown     pbrown@hotmail.com      5551234567   \n",
      "4            5     Robert     Jones     rjones23@gmail.com    555-987-3456   \n",
      "\n",
      "        address         city       state    zip_code registration_date  \n",
      "0   123 Main St     New York          NY       10001        2021-03-15  \n",
      "1  456 Park Ave     New York          NY       10022        2020-11-02  \n",
      "2  789 Broadway  Los Angeles  California  90001-1234        2021-05-20  \n",
      "3    321 Elm St      Chicago          IL       60601               NaN  \n",
      "4   555 Pine St      Houston          TX       77002        2020-09-12  \n",
      "   product_id        product_name     category  subcategory    brand    price  \\\n",
      "0           1     Apple iPhone 13  Electronics  Smartphones    Apple   899.99   \n",
      "1           2  Samsung Galaxy S21  electronics  Smartphones  Samsung   799.99   \n",
      "2           3     Sony WH-1000XM4  ELECTRONICS   Headphones     Sony   349.99   \n",
      "3           4         Dell XPS 13  Electronics      Laptops     Dell  1299.99   \n",
      "4           5    Nike Classic Tee     Clothing       Shirts     Nike    24.99   \n",
      "\n",
      "     cost  weight  \n",
      "0  649.99    0.45  \n",
      "1  539.99    0.50  \n",
      "2  210.00    0.60  \n",
      "3  899.99    2.80  \n",
      "4   12.50    0.20  \n"
     ]
    }
   ],
   "source": [
    "# Rename each DataFrame to an easier variable name\n",
    "inventory_df = dataframes[\"wk8-inventory.csv\"]\n",
    "sales_df = dataframes[\"wk8-sales.csv\"]\n",
    "stores_df = dataframes[\"wk8-stores.csv\"]\n",
    "customers_df = dataframes[\"wk8-customers.csv\"]\n",
    "products_df = dataframes[\"wk8-products.csv\"]\n",
    "\n",
    "# check first rows to make sure everything loaded correctly\n",
    "print(inventory_df.head())\n",
    "print(sales_df.head())\n",
    "print(stores_df.head())\n",
    "print(customers_df.head())\n",
    "print(products_df.head())"
   ]
  },
  {
   "cell_type": "code",
   "execution_count": 5,
   "id": "36687b47-adbc-41f1-81a1-56521c741f92",
   "metadata": {},
   "outputs": [
    {
     "name": "stdout",
     "output_type": "stream",
     "text": [
      "<class 'pandas.core.frame.DataFrame'>\n",
      "RangeIndex: 31 entries, 0 to 30\n",
      "Data columns (total 10 columns):\n",
      " #   Column             Non-Null Count  Dtype \n",
      "---  ------             --------------  ----- \n",
      " 0   customer_id        31 non-null     int64 \n",
      " 1   first_name         31 non-null     object\n",
      " 2   last_name          31 non-null     object\n",
      " 3   email              28 non-null     object\n",
      " 4   phone              29 non-null     object\n",
      " 5   address            31 non-null     object\n",
      " 6   city               31 non-null     object\n",
      " 7   state              31 non-null     object\n",
      " 8   zip_code           30 non-null     object\n",
      " 9   registration_date  28 non-null     object\n",
      "dtypes: int64(1), object(9)\n",
      "memory usage: 2.6+ KB\n"
     ]
    },
    {
     "data": {
      "text/plain": [
       "<Axes: title={'center': 'Number of Customers by State'}, xlabel='state'>"
      ]
     },
     "execution_count": 5,
     "metadata": {},
     "output_type": "execute_result"
    },
    {
     "data": {
      "image/png": "[encoded data removed]",
      "text/plain": [
       "<Figure size 640x480 with 1 Axes>"
      ]
     },
     "metadata": {},
     "output_type": "display_data"
    }
   ],
   "source": [
    "# Look at the customers table\n",
    "customers_df.info() # shows structure of the table\n",
    "customers_df.describe() # summary statistics\n",
    "customers_df.isnull().sum() # missing values per column\n",
    "\n",
    "# Plot number of customers per state\n",
    "customers_df[\"state\"].value_counts().plot(kind=\"bar\", title=\"Number of Customers by State\")"
   ]
  },
  {
   "cell_type": "code",
   "execution_count": 6,
   "id": "2d774f77-ac89-4e77-8612-ca42ca4a1d9b",
   "metadata": {},
   "outputs": [
    {
     "name": "stdout",
     "output_type": "stream",
     "text": [
      "<class 'pandas.core.frame.DataFrame'>\n",
      "RangeIndex: 75 entries, 0 to 74\n",
      "Data columns (total 6 columns):\n",
      " #   Column             Non-Null Count  Dtype  \n",
      "---  ------             --------------  -----  \n",
      " 0   inventory_id       75 non-null     int64  \n",
      " 1   store_id           75 non-null     int64  \n",
      " 2   product_id         75 non-null     int64  \n",
      " 3   quantity_in_stock  75 non-null     int64  \n",
      " 4   last_restock_date  66 non-null     object \n",
      " 5   reorder_level      69 non-null     float64\n",
      "dtypes: float64(1), int64(4), object(1)\n",
      "memory usage: 3.6+ KB\n"
     ]
    },
    {
     "data": {
      "text/plain": [
       "inventory_id         0\n",
       "store_id             0\n",
       "product_id           0\n",
       "quantity_in_stock    0\n",
       "last_restock_date    9\n",
       "reorder_level        6\n",
       "dtype: int64"
      ]
     },
     "execution_count": 6,
     "metadata": {},
     "output_type": "execute_result"
    }
   ],
   "source": [
    "# Look at the inventory table\n",
    "inventory_df.info() # shows structure of the table\n",
    "inventory_df.describe() # summary statistics\n",
    "inventory_df.isnull().sum() # missing values per column"
   ]
  },
  {
   "cell_type": "code",
   "execution_count": 7,
   "id": "45cbd141-8d77-44c9-84ba-fc50cc4e089f",
   "metadata": {},
   "outputs": [
    {
     "name": "stdout",
     "output_type": "stream",
     "text": [
      "<class 'pandas.core.frame.DataFrame'>\n",
      "RangeIndex: 40 entries, 0 to 39\n",
      "Data columns (total 8 columns):\n",
      " #   Column          Non-Null Count  Dtype  \n",
      "---  ------          --------------  -----  \n",
      " 0   sale_id         40 non-null     int64  \n",
      " 1   date            39 non-null     object \n",
      " 2   store_id        39 non-null     float64\n",
      " 3   customer_id     40 non-null     int64  \n",
      " 4   product_id      40 non-null     int64  \n",
      " 5   quantity        40 non-null     int64  \n",
      " 6   total           40 non-null     float64\n",
      " 7   payment_method  39 non-null     object \n",
      "dtypes: float64(2), int64(4), object(2)\n",
      "memory usage: 2.6+ KB\n"
     ]
    },
    {
     "data": {
      "text/plain": [
       "sale_id           0\n",
       "date              1\n",
       "store_id          1\n",
       "customer_id       0\n",
       "product_id        0\n",
       "quantity          0\n",
       "total             0\n",
       "payment_method    1\n",
       "dtype: int64"
      ]
     },
     "execution_count": 7,
     "metadata": {},
     "output_type": "execute_result"
    }
   ],
   "source": [
    "# Look at the sales_df table\n",
    "sales_df.info() # shows structure of the table\n",
    "sales_df.describe() # summary statistics\n",
    "sales_df.isnull().sum() # missing values per column"
   ]
  },
  {
   "cell_type": "code",
   "execution_count": 8,
   "id": "766e59fd-2180-4b76-b71f-c5b07aab33fe",
   "metadata": {},
   "outputs": [
    {
     "name": "stdout",
     "output_type": "stream",
     "text": [
      "<class 'pandas.core.frame.DataFrame'>\n",
      "RangeIndex: 15 entries, 0 to 14\n",
      "Data columns (total 9 columns):\n",
      " #   Column        Non-Null Count  Dtype  \n",
      "---  ------        --------------  -----  \n",
      " 0   store_id      15 non-null     int64  \n",
      " 1   store_name    15 non-null     object \n",
      " 2   address       15 non-null     object \n",
      " 3   city          15 non-null     object \n",
      " 4   state         15 non-null     object \n",
      " 5   zip_code      15 non-null     object \n",
      " 6   region        15 non-null     object \n",
      " 7   size_sqft     13 non-null     float64\n",
      " 8   opening_date  14 non-null     object \n",
      "dtypes: float64(1), int64(1), object(7)\n",
      "memory usage: 1.2+ KB\n"
     ]
    },
    {
     "data": {
      "text/plain": [
       "store_id        0\n",
       "store_name      0\n",
       "address         0\n",
       "city            0\n",
       "state           0\n",
       "zip_code        0\n",
       "region          0\n",
       "size_sqft       2\n",
       "opening_date    1\n",
       "dtype: int64"
      ]
     },
     "execution_count": 8,
     "metadata": {},
     "output_type": "execute_result"
    }
   ],
   "source": [
    "# Look at the stores table\n",
    "stores_df.info() # shows structure of the table\n",
    "stores_df.describe() # summary statistics\n",
    "stores_df.isnull().sum() # missing values per column"
   ]
  },
  {
   "cell_type": "code",
   "execution_count": 9,
   "id": "bd96b85d-63db-43ec-8fb2-f38c98839422",
   "metadata": {},
   "outputs": [
    {
     "data": {
      "text/plain": [
       "product_id      0\n",
       "product_name    0\n",
       "category        0\n",
       "subcategory     0\n",
       "brand           0\n",
       "price           0\n",
       "cost            0\n",
       "weight          2\n",
       "dtype: int64"
      ]
     },
     "execution_count": 9,
     "metadata": {},
     "output_type": "execute_result"
    }
   ],
   "source": [
    "# Look at the products table\n",
    "# shows structure of the table\n",
    "products_df.describe() # summary statistics\n",
    "products_df.isnull().sum() # missing values per column"
   ]
  },
  {
   "cell_type": "code",
   "execution_count": 10,
   "id": "9f6ecfa2-d724-490b-8473-c2a18b0b7791",
   "metadata": {},
   "outputs": [
    {
     "name": "stdout",
     "output_type": "stream",
     "text": [
      "Number of unique products: 30\n"
     ]
    }
   ],
   "source": [
    "## 3. Basic Information Retrieval:\n",
    "## How many unique products are in the product catalog?\n",
    "\n",
    "unique_products = products_df[\"product_id\"].nunique()\n",
    "print(\"Number of unique products:\", unique_products)"
   ]
  },
  {
   "cell_type": "code",
   "execution_count": 11,
   "id": "e6cbe8a2-4099-4078-8fa2-6bd7281c7c0a",
   "metadata": {},
   "outputs": [
    {
     "name": "stdout",
     "output_type": "stream",
     "text": [
      "Top 5 most expensive product:     product_id        product_name        category  subcategory    brand  \\\n",
      "3            4         Dell XPS 13     Electronics      Laptops     Dell   \n",
      "0            1     Apple iPhone 13     Electronics  Smartphones    Apple   \n",
      "1            2  Samsung Galaxy S21     electronics  Smartphones  Samsung   \n",
      "19          20    Dyson V11 Vacuum  HOME & KITCHEN   Appliances    Dyson   \n",
      "26          27  Sony PlayStation 5     Electronics       Gaming     Sony   \n",
      "\n",
      "      price    cost  weight  \n",
      "3   1299.99  899.99    2.80  \n",
      "0    899.99  649.99    0.45  \n",
      "1    799.99  539.99    0.50  \n",
      "19   599.99  375.00    6.70  \n",
      "26   499.99  399.00    4.50  \n"
     ]
    }
   ],
   "source": [
    "## What are the top 5 most expensive products?\n",
    "\n",
    "top_5_expensive = products_df.sort_values(by='price', ascending=False ).head(5)\n",
    "print('Top 5 most expensive product:', top_5_expensive)\n",
    "\n"
   ]
  },
  {
   "cell_type": "code",
   "execution_count": 12,
   "id": "94d84150-03a2-46ba-92fb-dc3f6adba766",
   "metadata": {},
   "outputs": [
    {
     "name": "stdout",
     "output_type": "stream",
     "text": [
      "   store_id         store_name          address         city state zip_code  \\\n",
      "2         3  Los Angeles Plaza  789 Commerce St  Los Angeles    CA    90001   \n",
      "\n",
      "  region  size_sqft opening_date  \n",
      "2   West    55000.0   2004-03-10  \n"
     ]
    }
   ],
   "source": [
    "# Which store has the largest floor space?\n",
    "stores_df.describe()\n",
    "largest_floor_space = stores_df.sort_values(by='size_sqft', ascending=False ).head(1)\n",
    "print(largest_floor_space )"
   ]
  },
  {
   "cell_type": "code",
   "execution_count": 15,
   "id": "89fca2eb-35e8-4f26-b929-d0ef8b03c669",
   "metadata": {},
   "outputs": [
    {
     "name": "stdout",
     "output_type": "stream",
     "text": [
      "state\n",
      "TX                4\n",
      "CA                3\n",
      "NY                2\n",
      "IL                1\n",
      "California        1\n",
      "AZ                1\n",
      "PA                1\n",
      "Texas             1\n",
      "FL                1\n",
      "OH                1\n",
      "North Carolina    1\n",
      "IN                1\n",
      "Washington        1\n",
      "CO                1\n",
      "MA                1\n",
      "Oregon            1\n",
      "NV                1\n",
      "MI                1\n",
      "TN                1\n",
      "Maryland          1\n",
      "MD                1\n",
      "KY                1\n",
      "WI                1\n",
      "NM                1\n",
      "MO                1\n",
      "Name: count, dtype: int64\n"
     ]
    }
   ],
   "source": [
    "# What is the distribution of customers by state?\n",
    "#customers_df[\"state\"].value_counts().plot(kind=\"bar\", title=\"Number of Customers by State\")\n",
    "\n",
    "state_distribution = customers_df[\"state\"].value_counts()\n",
    "\n",
    "print(state_distribution)"
   ]
  },
  {
   "cell_type": "code",
   "execution_count": 16,
   "id": "ff8dc0b3-aa21-4e24-9b5d-f116ec97074c",
   "metadata": {},
   "outputs": [
    {
     "data": {
      "text/plain": [
       "Text(0, 0.5, 'Number of Customers')"
      ]
     },
     "execution_count": 16,
     "metadata": {},
     "output_type": "execute_result"
    },
    {
     "data": {
      "image/png": "[encoded data removed]",
      "text/plain": [
       "<Figure size 640x480 with 1 Axes>"
      ]
     },
     "metadata": {},
     "output_type": "display_data"
    }
   ],
   "source": [
    "import matplotlib.pyplot as plt\n",
    "customers_df[\"state\"].value_counts().plot(kind=\"bar\", color=\"purple\", title=\" Distribution of Customers by State\")\n",
    "plt.ylabel(\"Number of Customers\")\n"
   ]
  },
  {
   "cell_type": "code",
   "execution_count": 28,
   "id": "df3e7f10-348d-4839-b2ed-4a08daef82d7",
   "metadata": {},
   "outputs": [
    {
     "name": "stdout",
     "output_type": "stream",
     "text": [
      "<class 'pandas.core.frame.DataFrame'>\n",
      "RangeIndex: 75 entries, 0 to 74\n",
      "Data columns (total 6 columns):\n",
      " #   Column             Non-Null Count  Dtype  \n",
      "---  ------             --------------  -----  \n",
      " 0   inventory_id       75 non-null     int64  \n",
      " 1   store_id           75 non-null     int64  \n",
      " 2   product_id         75 non-null     int64  \n",
      " 3   quantity_in_stock  75 non-null     int64  \n",
      " 4   last_restock_date  66 non-null     object \n",
      " 5   reorder_level      75 non-null     float64\n",
      "dtypes: float64(1), int64(4), object(1)\n",
      "memory usage: 3.6+ KB\n"
     ]
    },
    {
     "data": {
      "text/plain": [
       "inventory_id         0\n",
       "store_id             0\n",
       "product_id           0\n",
       "quantity_in_stock    0\n",
       "last_restock_date    9\n",
       "reorder_level        0\n",
       "dtype: int64"
      ]
     },
     "execution_count": 28,
     "metadata": {},
     "output_type": "execute_result"
    }
   ],
   "source": [
    "## Part 2: Data Cleaning\n",
    "#1. Handling Missing Values:\n",
    "# Identify all missing values in each dataset\n",
    "# For missing reorder_level fill missing values with mean value\n",
    "inventory_df.describe()\n",
    "mean_value = 12.681159\n",
    "inventory_df['reorder_level'] = inventory_df['reorder_level'].fillna(mean_value)\n",
    "inventory_df.info()\n",
    "stores_df.shape\n",
    "inventory_df.isnull().sum()"
   ]
  },
  {
   "cell_type": "code",
   "execution_count": 27,
   "id": "70eea730-e520-4ae6-9ee0-5334ec89f0b3",
   "metadata": {},
   "outputs": [
    {
     "name": "stdout",
     "output_type": "stream",
     "text": [
      "<class 'pandas.core.frame.DataFrame'>\n",
      "RangeIndex: 15 entries, 0 to 14\n",
      "Data columns (total 9 columns):\n",
      " #   Column        Non-Null Count  Dtype  \n",
      "---  ------        --------------  -----  \n",
      " 0   store_id      15 non-null     int64  \n",
      " 1   store_name    15 non-null     object \n",
      " 2   address       15 non-null     object \n",
      " 3   city          15 non-null     object \n",
      " 4   state         15 non-null     object \n",
      " 5   zip_code      15 non-null     object \n",
      " 6   region        15 non-null     object \n",
      " 7   size_sqft     15 non-null     float64\n",
      " 8   opening_date  14 non-null     object \n",
      "dtypes: float64(1), int64(1), object(7)\n",
      "memory usage: 1.2+ KB\n"
     ]
    },
    {
     "data": {
      "text/plain": [
       "store_id        0\n",
       "store_name      0\n",
       "address         0\n",
       "city            0\n",
       "state           0\n",
       "zip_code        0\n",
       "region          0\n",
       "size_sqft       0\n",
       "opening_date    1\n",
       "dtype: int64"
      ]
     },
     "execution_count": 27,
     "metadata": {},
     "output_type": "execute_result"
    }
   ],
   "source": [
    "# For size_sqft fill missing values with mean value\n",
    "stores_df.describe()\n",
    "mean_value = 13.00\n",
    "stores_df['size_sqft'] = stores_df['size_sqft'].fillna(mean_value)\n",
    "stores_df.info()\n",
    "stores_df.shape\n",
    "stores_df.isnull().sum()\n",
    "\n"
   ]
  },
  {
   "cell_type": "code",
   "execution_count": 29,
   "id": "f1e5b747-b556-41fc-9eb0-8ffacd0046dd",
   "metadata": {},
   "outputs": [
    {
     "name": "stdout",
     "output_type": "stream",
     "text": [
      "<class 'pandas.core.frame.DataFrame'>\n",
      "RangeIndex: 30 entries, 0 to 29\n",
      "Data columns (total 8 columns):\n",
      " #   Column        Non-Null Count  Dtype  \n",
      "---  ------        --------------  -----  \n",
      " 0   product_id    30 non-null     int64  \n",
      " 1   product_name  30 non-null     object \n",
      " 2   category      30 non-null     object \n",
      " 3   subcategory   30 non-null     object \n",
      " 4   brand         30 non-null     object \n",
      " 5   price         30 non-null     float64\n",
      " 6   cost          30 non-null     float64\n",
      " 7   weight        30 non-null     float64\n",
      "dtypes: float64(3), int64(1), object(4)\n",
      "memory usage: 2.0+ KB\n"
     ]
    },
    {
     "data": {
      "text/plain": [
       "product_id      0\n",
       "product_name    0\n",
       "category        0\n",
       "subcategory     0\n",
       "brand           0\n",
       "price           0\n",
       "cost            0\n",
       "weight          0\n",
       "dtype: int64"
      ]
     },
     "execution_count": 29,
     "metadata": {},
     "output_type": "execute_result"
    }
   ],
   "source": [
    "# For missing weight fill missing values with mean_weight\n",
    "\n",
    "products_df.describe()\n",
    "mean_weight = 3.835714\n",
    "products_df['weight'] = products_df['weight'].fillna(mean_weight)\n",
    "products_df.info()\n",
    "stores_df.shape\n",
    "products_df.isnull().sum()"
   ]
  },
  {
   "cell_type": "code",
   "execution_count": 24,
   "id": "2337c6b1-b0ac-41cb-a4ca-c30daf85196b",
   "metadata": {},
   "outputs": [
    {
     "data": {
      "text/html": [
       "<div>\n",
       "<style scoped>\n",
       "    .dataframe tbody tr th:only-of-type {\n",
       "        vertical-align: middle;\n",
       "    }\n",
       "\n",
       "    .dataframe tbody tr th {\n",
       "        vertical-align: top;\n",
       "    }\n",
       "\n",
       "    .dataframe thead th {\n",
       "        text-align: right;\n",
       "    }\n",
       "</style>\n",
       "<table border=\"1\" class=\"dataframe\">\n",
       "  <thead>\n",
       "    <tr style=\"text-align: right;\">\n",
       "      <th></th>\n",
       "      <th>sale_id</th>\n",
       "      <th>date</th>\n",
       "      <th>store_id</th>\n",
       "      <th>customer_id</th>\n",
       "      <th>product_id</th>\n",
       "      <th>quantity</th>\n",
       "      <th>total</th>\n",
       "      <th>payment_method</th>\n",
       "    </tr>\n",
       "  </thead>\n",
       "  <tbody>\n",
       "    <tr>\n",
       "      <th>count</th>\n",
       "      <td>40.000000</td>\n",
       "      <td>39</td>\n",
       "      <td>39.000000</td>\n",
       "      <td>40.000000</td>\n",
       "      <td>40.000000</td>\n",
       "      <td>40.000000</td>\n",
       "      <td>40.000000</td>\n",
       "      <td>40</td>\n",
       "    </tr>\n",
       "    <tr>\n",
       "      <th>unique</th>\n",
       "      <td>NaN</td>\n",
       "      <td>39</td>\n",
       "      <td>NaN</td>\n",
       "      <td>NaN</td>\n",
       "      <td>NaN</td>\n",
       "      <td>NaN</td>\n",
       "      <td>NaN</td>\n",
       "      <td>22</td>\n",
       "    </tr>\n",
       "    <tr>\n",
       "      <th>top</th>\n",
       "      <td>NaN</td>\n",
       "      <td>2022-01-15</td>\n",
       "      <td>NaN</td>\n",
       "      <td>NaN</td>\n",
       "      <td>NaN</td>\n",
       "      <td>NaN</td>\n",
       "      <td>NaN</td>\n",
       "      <td>Credit Card</td>\n",
       "    </tr>\n",
       "    <tr>\n",
       "      <th>freq</th>\n",
       "      <td>NaN</td>\n",
       "      <td>1</td>\n",
       "      <td>NaN</td>\n",
       "      <td>NaN</td>\n",
       "      <td>NaN</td>\n",
       "      <td>NaN</td>\n",
       "      <td>NaN</td>\n",
       "      <td>8</td>\n",
       "    </tr>\n",
       "    <tr>\n",
       "      <th>mean</th>\n",
       "      <td>20.500000</td>\n",
       "      <td>NaN</td>\n",
       "      <td>6.487179</td>\n",
       "      <td>14.075000</td>\n",
       "      <td>13.500000</td>\n",
       "      <td>1.625000</td>\n",
       "      <td>352.296500</td>\n",
       "      <td>NaN</td>\n",
       "    </tr>\n",
       "    <tr>\n",
       "      <th>std</th>\n",
       "      <td>11.690452</td>\n",
       "      <td>NaN</td>\n",
       "      <td>4.235637</td>\n",
       "      <td>8.303189</td>\n",
       "      <td>8.857852</td>\n",
       "      <td>0.952392</td>\n",
       "      <td>377.625776</td>\n",
       "      <td>NaN</td>\n",
       "    </tr>\n",
       "    <tr>\n",
       "      <th>min</th>\n",
       "      <td>1.000000</td>\n",
       "      <td>NaN</td>\n",
       "      <td>1.000000</td>\n",
       "      <td>1.000000</td>\n",
       "      <td>1.000000</td>\n",
       "      <td>1.000000</td>\n",
       "      <td>19.980000</td>\n",
       "      <td>NaN</td>\n",
       "    </tr>\n",
       "    <tr>\n",
       "      <th>25%</th>\n",
       "      <td>10.750000</td>\n",
       "      <td>NaN</td>\n",
       "      <td>3.000000</td>\n",
       "      <td>6.750000</td>\n",
       "      <td>5.750000</td>\n",
       "      <td>1.000000</td>\n",
       "      <td>99.737500</td>\n",
       "      <td>NaN</td>\n",
       "    </tr>\n",
       "    <tr>\n",
       "      <th>50%</th>\n",
       "      <td>20.500000</td>\n",
       "      <td>NaN</td>\n",
       "      <td>6.000000</td>\n",
       "      <td>13.500000</td>\n",
       "      <td>11.500000</td>\n",
       "      <td>1.000000</td>\n",
       "      <td>229.985000</td>\n",
       "      <td>NaN</td>\n",
       "    </tr>\n",
       "    <tr>\n",
       "      <th>75%</th>\n",
       "      <td>30.250000</td>\n",
       "      <td>NaN</td>\n",
       "      <td>9.500000</td>\n",
       "      <td>20.250000</td>\n",
       "      <td>21.250000</td>\n",
       "      <td>2.000000</td>\n",
       "      <td>352.487500</td>\n",
       "      <td>NaN</td>\n",
       "    </tr>\n",
       "    <tr>\n",
       "      <th>max</th>\n",
       "      <td>40.000000</td>\n",
       "      <td>NaN</td>\n",
       "      <td>15.000000</td>\n",
       "      <td>29.000000</td>\n",
       "      <td>30.000000</td>\n",
       "      <td>5.000000</td>\n",
       "      <td>1599.990000</td>\n",
       "      <td>NaN</td>\n",
       "    </tr>\n",
       "  </tbody>\n",
       "</table>\n",
       "</div>"
      ],
      "text/plain": [
       "          sale_id        date   store_id  customer_id  product_id   quantity  \\\n",
       "count   40.000000          39  39.000000    40.000000   40.000000  40.000000   \n",
       "unique        NaN          39        NaN          NaN         NaN        NaN   \n",
       "top           NaN  2022-01-15        NaN          NaN         NaN        NaN   \n",
       "freq          NaN           1        NaN          NaN         NaN        NaN   \n",
       "mean    20.500000         NaN   6.487179    14.075000   13.500000   1.625000   \n",
       "std     11.690452         NaN   4.235637     8.303189    8.857852   0.952392   \n",
       "min      1.000000         NaN   1.000000     1.000000    1.000000   1.000000   \n",
       "25%     10.750000         NaN   3.000000     6.750000    5.750000   1.000000   \n",
       "50%     20.500000         NaN   6.000000    13.500000   11.500000   1.000000   \n",
       "75%     30.250000         NaN   9.500000    20.250000   21.250000   2.000000   \n",
       "max     40.000000         NaN  15.000000    29.000000   30.000000   5.000000   \n",
       "\n",
       "              total payment_method  \n",
       "count     40.000000             40  \n",
       "unique          NaN             22  \n",
       "top             NaN    Credit Card  \n",
       "freq            NaN              8  \n",
       "mean     352.296500            NaN  \n",
       "std      377.625776            NaN  \n",
       "min       19.980000            NaN  \n",
       "25%       99.737500            NaN  \n",
       "50%      229.985000            NaN  \n",
       "75%      352.487500            NaN  \n",
       "max     1599.990000            NaN  "
      ]
     },
     "execution_count": 24,
     "metadata": {},
     "output_type": "execute_result"
    }
   ],
   "source": [
    "sales_df.describe(include = \"all\")"
   ]
  },
  {
   "cell_type": "code",
   "execution_count": 34,
   "id": "9ab579d2-2b71-40a9-bd0b-cd4424936950",
   "metadata": {},
   "outputs": [
    {
     "name": "stdout",
     "output_type": "stream",
     "text": [
      "<class 'pandas.core.frame.DataFrame'>\n",
      "RangeIndex: 40 entries, 0 to 39\n",
      "Data columns (total 8 columns):\n",
      " #   Column          Non-Null Count  Dtype  \n",
      "---  ------          --------------  -----  \n",
      " 0   sale_id         40 non-null     int64  \n",
      " 1   date            39 non-null     object \n",
      " 2   store_id        40 non-null     float64\n",
      " 3   customer_id     40 non-null     int64  \n",
      " 4   product_id      40 non-null     int64  \n",
      " 5   quantity        40 non-null     int64  \n",
      " 6   total           40 non-null     float64\n",
      " 7   payment_method  40 non-null     object \n",
      "dtypes: float64(2), int64(4), object(2)\n",
      "memory usage: 2.6+ KB\n"
     ]
    },
    {
     "data": {
      "text/plain": [
       "(15, 9)"
      ]
     },
     "execution_count": 34,
     "metadata": {},
     "output_type": "execute_result"
    }
   ],
   "source": [
    "# For categorical columns with missing values, replace them with the most frequent value\n",
    "# For payment_method in sales fill missing valeus with mist frequent value\n",
    "frequent_value = 8\n",
    "sales_df['payment_method'] = sales_df['payment_method'].fillna(frequent_value)\n",
    "sales_df['store_id'] = sales_df['store_id'].fillna(-1)\n",
    "sales_df.info()\n",
    "stores_df.shape\n"
   ]
  },
  {
   "cell_type": "code",
   "execution_count": 32,
   "id": "296088a8-0aa8-482b-bb25-719d1dfc64fc",
   "metadata": {},
   "outputs": [
    {
     "name": "stdout",
     "output_type": "stream",
     "text": [
      "<class 'pandas.core.frame.DataFrame'>\n",
      "RangeIndex: 31 entries, 0 to 30\n",
      "Data columns (total 10 columns):\n",
      " #   Column             Non-Null Count  Dtype \n",
      "---  ------             --------------  ----- \n",
      " 0   customer_id        31 non-null     int64 \n",
      " 1   first_name         31 non-null     object\n",
      " 2   last_name          31 non-null     object\n",
      " 3   email              31 non-null     object\n",
      " 4   phone              31 non-null     object\n",
      " 5   address            31 non-null     object\n",
      " 6   city               31 non-null     object\n",
      " 7   state              31 non-null     object\n",
      " 8   zip_code           31 non-null     object\n",
      " 9   registration_date  28 non-null     object\n",
      "dtypes: int64(1), object(9)\n",
      "memory usage: 2.6+ KB\n"
     ]
    },
    {
     "data": {
      "text/plain": [
       "(31, 10)"
      ]
     },
     "execution_count": 32,
     "metadata": {},
     "output_type": "execute_result"
    }
   ],
   "source": [
    "# For missing email, phone, zip_code in customers table\n",
    "customers_df['email'] = customers_df['email'].fillna('missing@email.com')\n",
    "customers_df['zip_code'] = customers_df['zip_code'].fillna('00000')\n",
    "customers_df['phone'] = customers_df['phone'].fillna('000 000 0000')\n",
    "customers_df.info()\n",
    "customers_df.shape"
   ]
  },
  {
   "cell_type": "code",
   "execution_count": 38,
   "id": "06c7f78c-5036-447a-8f6c-77cd004104b6",
   "metadata": {},
   "outputs": [
    {
     "name": "stdout",
     "output_type": "stream",
     "text": [
      "<class 'pandas.core.frame.DataFrame'>\n",
      "RangeIndex: 31 entries, 0 to 30\n",
      "Data columns (total 10 columns):\n",
      " #   Column             Non-Null Count  Dtype \n",
      "---  ------             --------------  ----- \n",
      " 0   customer_id        31 non-null     int64 \n",
      " 1   first_name         31 non-null     object\n",
      " 2   last_name          31 non-null     object\n",
      " 3   email              31 non-null     object\n",
      " 4   phone              31 non-null     object\n",
      " 5   address            31 non-null     object\n",
      " 6   city               31 non-null     object\n",
      " 7   state              31 non-null     object\n",
      " 8   zip_code           31 non-null     object\n",
      " 9   registration_date  31 non-null     object\n",
      "dtypes: int64(1), object(9)\n",
      "memory usage: 2.6+ KB\n",
      "<class 'pandas.core.frame.DataFrame'>\n",
      "RangeIndex: 75 entries, 0 to 74\n",
      "Data columns (total 6 columns):\n",
      " #   Column             Non-Null Count  Dtype  \n",
      "---  ------             --------------  -----  \n",
      " 0   inventory_id       75 non-null     int64  \n",
      " 1   store_id           75 non-null     int64  \n",
      " 2   product_id         75 non-null     int64  \n",
      " 3   quantity_in_stock  75 non-null     int64  \n",
      " 4   last_restock_date  75 non-null     object \n",
      " 5   reorder_level      75 non-null     float64\n",
      "dtypes: float64(1), int64(4), object(1)\n",
      "memory usage: 3.6+ KB\n",
      "<class 'pandas.core.frame.DataFrame'>\n",
      "RangeIndex: 15 entries, 0 to 14\n",
      "Data columns (total 9 columns):\n",
      " #   Column        Non-Null Count  Dtype  \n",
      "---  ------        --------------  -----  \n",
      " 0   store_id      15 non-null     int64  \n",
      " 1   store_name    15 non-null     object \n",
      " 2   address       15 non-null     object \n",
      " 3   city          15 non-null     object \n",
      " 4   state         15 non-null     object \n",
      " 5   zip_code      15 non-null     object \n",
      " 6   region        15 non-null     object \n",
      " 7   size_sqft     15 non-null     float64\n",
      " 8   opening_date  15 non-null     object \n",
      "dtypes: float64(1), int64(1), object(7)\n",
      "memory usage: 1.2+ KB\n",
      "<class 'pandas.core.frame.DataFrame'>\n",
      "RangeIndex: 40 entries, 0 to 39\n",
      "Data columns (total 8 columns):\n",
      " #   Column          Non-Null Count  Dtype  \n",
      "---  ------          --------------  -----  \n",
      " 0   sale_id         40 non-null     int64  \n",
      " 1   date            40 non-null     object \n",
      " 2   store_id        40 non-null     float64\n",
      " 3   customer_id     40 non-null     int64  \n",
      " 4   product_id      40 non-null     int64  \n",
      " 5   quantity        40 non-null     int64  \n",
      " 6   total           40 non-null     float64\n",
      " 7   payment_method  40 non-null     object \n",
      "dtypes: float64(2), int64(4), object(2)\n",
      "memory usage: 2.6+ KB\n"
     ]
    },
    {
     "data": {
      "text/plain": [
       "(40, 8)"
      ]
     },
     "execution_count": 38,
     "metadata": {},
     "output_type": "execute_result"
    }
   ],
   "source": [
    "# For date columns with date missing values, use forward fill or backward fill as appropriate\n",
    "# I used the forward fill\n",
    "customers_df['registration_date'] = customers_df['registration_date'].ffill()\n",
    "inventory_df['last_restock_date'] = inventory_df['last_restock_date'].ffill()\n",
    "stores_df['opening_date'] = stores_df['opening_date'].ffill()\n",
    "sales_df['date'] = sales_df['date'].ffill() \n",
    "customers_df.info()\n",
    "inventory_df.info()\n",
    "stores_df.info()\n",
    "sales_df.info()\n",
    "customers_df.shape\n",
    "inventory_df.shape\n",
    "stores_df.shape\n",
    "sales_df.shape"
   ]
  },
  {
   "cell_type": "code",
   "execution_count": 44,
   "id": "0645346d-e7ee-4551-9741-2b8d4f93a355",
   "metadata": {},
   "outputs": [
    {
     "data": {
      "text/plain": [
       "0     False\n",
       "1     False\n",
       "2     False\n",
       "3     False\n",
       "4     False\n",
       "5     False\n",
       "6     False\n",
       "7     False\n",
       "8     False\n",
       "9     False\n",
       "10    False\n",
       "11    False\n",
       "12    False\n",
       "13    False\n",
       "14    False\n",
       "15    False\n",
       "16    False\n",
       "17    False\n",
       "18    False\n",
       "19    False\n",
       "20    False\n",
       "21    False\n",
       "22    False\n",
       "23    False\n",
       "24    False\n",
       "25    False\n",
       "26    False\n",
       "27    False\n",
       "28    False\n",
       "29    False\n",
       "dtype: bool"
      ]
     },
     "execution_count": 44,
     "metadata": {},
     "output_type": "execute_result"
    }
   ],
   "source": [
    "#2.Removing Duplicates:\n",
    "# Check for and remove any duplicate entries in the customers and products dataframes\n",
    "# Explain your approach for identifying duplicates\n",
    "# Fror the duplicates, the .duplicated() function was used for the customerd and product dataframes\n",
    "customers_df.duplicated()"
   ]
  },
  {
   "cell_type": "code",
   "execution_count": 45,
   "id": "4ff3e264-0ca7-4dd1-9cb6-132b68efd753",
   "metadata": {},
   "outputs": [
    {
     "data": {
      "text/plain": [
       "0     False\n",
       "1     False\n",
       "2     False\n",
       "3     False\n",
       "4     False\n",
       "5     False\n",
       "6     False\n",
       "7     False\n",
       "8     False\n",
       "9     False\n",
       "10    False\n",
       "11    False\n",
       "12    False\n",
       "13    False\n",
       "14    False\n",
       "15    False\n",
       "16    False\n",
       "17    False\n",
       "18    False\n",
       "19    False\n",
       "20    False\n",
       "21    False\n",
       "22    False\n",
       "23    False\n",
       "24    False\n",
       "25    False\n",
       "26    False\n",
       "27    False\n",
       "28    False\n",
       "29    False\n",
       "dtype: bool"
      ]
     },
     "execution_count": 45,
     "metadata": {},
     "output_type": "execute_result"
    }
   ],
   "source": [
    "products_df.duplicated()"
   ]
  },
  {
   "cell_type": "markdown",
   "id": "046f3bd6-8dcc-4339-a53d-a2c9dacb9b7a",
   "metadata": {},
   "source": [
    "#### Discussion Questions\n",
    "#### 1. What are the key advantages of using Pandas for data cleaning compared to other methods? \n",
    "#### Pandas automatically aligns data based on indices, reducing errors when combining datasets.\n",
    "#### 2. How would your approach to handling missing values differ if the missing data was not random but had a pattern or meaning? \n",
    "#### Fill missing values using group-based statistics for example uding the median to replace the missing data\n",
    "#### 3. What types of data quality issues might not be immediately visible through simple DataFrame inspection methods? \n",
    "#### Subtle inconsistencies like different units that include date formats, capitalization in categorical variables.\n",
    "#### 4. How would you document your data cleaning process to ensure reproducibility? \n",
    "#### Use notebooks or scripts with clear comments for each cleaning operation to ensure reproducibility.\n",
    "#### 5. In what scenarios might it be better to remove rows with missing values rather than imputing them?\n",
    "#### Removing rows might ne better if only a tiny fraction of rows is missing values, deletion may be simpler and less risky."
   ]
  },
  {
   "cell_type": "markdown",
   "id": "e71fbf9a-39e0-4d10-9a55-6780d40edac1",
   "metadata": {},
   "source": [
    "#### Discussion Questions\n",
    "#### 1. What are the key advantages of using Pandas for data cleaning compared to other methods?\n",
    "#### Pandas automatically aligns data based on indices, reducing errors when combining datasets.\n",
    "#### 2. How would your approach to handling missing values differ if the missing data was not random but had a pattern or meaning?\n",
    "#### Fill missing values using group-based statistics for example uding the median to replace the missing data\n",
    "#### 3. What types of data quality issues might not be immediately visible through simple DataFrame inspection methods?\n",
    "#### Subtle inconsistencies like different units that include date formats, capitalization in categorical variables.\n",
    "#### 4. How would you document your data cleaning process to ensure reproducibility?\n",
    "#### Use notebooks or scripts with clear comments for each cleaning operation to ensure reproducibility.\n",
    "#### 5. In what scenarios might it be better to remove rows with missing values rather than imputing them?\n",
    "#### Removing rows might ne better if only a tiny fraction of rows is missing values, deletion may be simpler and less risky."
   ]
  },
  {
   "cell_type": "code",
   "execution_count": null,
   "id": "7f7cd4ac-e4a7-4d06-b298-f16ffbbc2429",
   "metadata": {},
   "outputs": [],
   "source": []
  }
 ],
 "metadata": {
  "kernelspec": {
   "display_name": "Python [conda env:base] *",
   "language": "python",
   "name": "conda-base-py"
  },
  "language_info": {
   "codemirror_mode": {
    "name": "ipython",
    "version": 3
   },
   "file_extension": ".py",
   "mimetype": "text/x-python",
   "name": "python",
   "nbconvert_exporter": "python",
   "pygments_lexer": "ipython3",
   "version": "3.13.5"
  }
 },
 "nbformat": 4,
 "nbformat_minor": 5
}
