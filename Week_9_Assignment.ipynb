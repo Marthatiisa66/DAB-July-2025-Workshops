{
 "cells": [
  {
   "cell_type": "code",
   "execution_count": 119,
   "id": "1b5e9019-dcce-4096-ab86-9da98e9ede12",
   "metadata": {},
   "outputs": [
    {
     "name": "stdout",
     "output_type": "stream",
     "text": [
      "\n",
      "--- products_wk9_thurs.csv ---\n",
      "   product_id                   product_name           category  price  \\\n",
      "0           1  Wireless Bluetooth Headphones        Electronics  79.99   \n",
      "1           2         Organic Cotton T-Shirt           Clothing  24.99   \n",
      "2           3   Stainless Steel Water Bottle      Home & Garden  19.99   \n",
      "3           4          Leather Crossbody Bag        Accessories  89.99   \n",
      "4           5               Yoga Mat Premium  Sports & Outdoors  34.99   \n",
      "\n",
      "  launch_date       brand  \n",
      "0  2021-03-15   AudioTech  \n",
      "1  2021-04-20     EcoWear  \n",
      "2  2021-05-10   HydroLife  \n",
      "3  2021-06-01  StyleCraft  \n",
      "4  2021-06-15     FitZone  \n",
      "\n",
      "--- customers_wk9_thurs.csv ---\n",
      "   customer_id first_name last_name  age state  income registration_date  \\\n",
      "0            1       John     Smith   34    CA   75000        2022-01-15   \n",
      "1            2      Sarah   Johnson   28    NY   82000        2022-01-22   \n",
      "2            3    Michael     Brown   45    TX   95000        2022-02-03   \n",
      "3            4      Emily     Davis   31    FL   68000        2022-02-14   \n",
      "4            5      David    Wilson   52    IL  110000        2022-02-28   \n",
      "\n",
      "                     email  \n",
      "0     john.smith@email.com  \n",
      "1  sarah.johnson@email.com  \n",
      "2  michael.brown@email.com  \n",
      "3    emily.davis@email.com  \n",
      "4   david.wilson@email.com  \n",
      "\n",
      "--- sales_wk9_thurs.csv ---\n",
      "   sale_id  customer_id  product_id     transaction_date  quantity  \\\n",
      "0        1            1           1  2022-02-10 14:30:00         1   \n",
      "1        2            2           3  2022-02-15 10:15:00         2   \n",
      "2        3            3           5  2022-02-20 16:45:00         1   \n",
      "3        4            4           2  2022-02-25 11:20:00         3   \n",
      "4        5            5           4  2022-03-01 13:10:00         1   \n",
      "\n",
      "   total_amount  \n",
      "0         79.99  \n",
      "1         39.98  \n",
      "2         34.99  \n",
      "3         74.97  \n",
      "4         89.99  \n"
     ]
    }
   ],
   "source": [
    "import pandas as pd\n",
    "import glob\n",
    "\n",
    "#1. Get all CSV file paths from a folder\n",
    "csv_files = glob.glob(\"*.csv\")\n",
    "\n",
    "#2. Create a dictionary of DataFrames\n",
    "dataframes = {file: pd.read_csv(file) for file in csv_files}\n",
    "\n",
    "#3. Display the first few rows of each DataFrame\n",
    "for file, df in dataframes.items():\n",
    "    print(f\"\\n--- {file} ---\")\n",
    "    print(df.head())"
   ]
  },
  {
   "cell_type": "code",
   "execution_count": 120,
   "id": "32d87473-7aac-4c39-8ec6-1f3005a18872",
   "metadata": {},
   "outputs": [
    {
     "name": "stdout",
     "output_type": "stream",
     "text": [
      "dict_keys(['products_wk9_thurs.csv', 'customers_wk9_thurs.csv', 'sales_wk9_thurs.csv'])\n"
     ]
    }
   ],
   "source": [
    "# See all keys (file names)\n",
    "print(dataframes.keys())"
   ]
  },
  {
   "cell_type": "code",
   "execution_count": 121,
   "id": "d26ae6c0-b3e2-466b-94ef-95beee18c7a7",
   "metadata": {},
   "outputs": [
    {
     "name": "stdout",
     "output_type": "stream",
     "text": [
      "   sale_id  customer_id  product_id     transaction_date  quantity  \\\n",
      "0        1            1           1  2022-02-10 14:30:00         1   \n",
      "1        2            2           3  2022-02-15 10:15:00         2   \n",
      "2        3            3           5  2022-02-20 16:45:00         1   \n",
      "3        4            4           2  2022-02-25 11:20:00         3   \n",
      "4        5            5           4  2022-03-01 13:10:00         1   \n",
      "\n",
      "   total_amount  \n",
      "0         79.99  \n",
      "1         39.98  \n",
      "2         34.99  \n",
      "3         74.97  \n",
      "4         89.99  \n",
      "   customer_id first_name last_name  age state  income registration_date  \\\n",
      "0            1       John     Smith   34    CA   75000        2022-01-15   \n",
      "1            2      Sarah   Johnson   28    NY   82000        2022-01-22   \n",
      "2            3    Michael     Brown   45    TX   95000        2022-02-03   \n",
      "3            4      Emily     Davis   31    FL   68000        2022-02-14   \n",
      "4            5      David    Wilson   52    IL  110000        2022-02-28   \n",
      "\n",
      "                     email  \n",
      "0     john.smith@email.com  \n",
      "1  sarah.johnson@email.com  \n",
      "2  michael.brown@email.com  \n",
      "3    emily.davis@email.com  \n",
      "4   david.wilson@email.com  \n",
      "   product_id                   product_name           category  price  \\\n",
      "0           1  Wireless Bluetooth Headphones        Electronics  79.99   \n",
      "1           2         Organic Cotton T-Shirt           Clothing  24.99   \n",
      "2           3   Stainless Steel Water Bottle      Home & Garden  19.99   \n",
      "3           4          Leather Crossbody Bag        Accessories  89.99   \n",
      "4           5               Yoga Mat Premium  Sports & Outdoors  34.99   \n",
      "\n",
      "  launch_date       brand  \n",
      "0  2021-03-15   AudioTech  \n",
      "1  2021-04-20     EcoWear  \n",
      "2  2021-05-10   HydroLife  \n",
      "3  2021-06-01  StyleCraft  \n",
      "4  2021-06-15     FitZone  \n"
     ]
    }
   ],
   "source": [
    "# Rename each DataFrame to an easier variable name\n",
    "\n",
    "sales_df = dataframes[\"sales_wk9_thurs.csv\"]\n",
    "customers_df = dataframes[\"customers_wk9_thurs.csv\"]\n",
    "products_df = dataframes[\"products_wk9_thurs.csv\"]\n",
    "\n",
    "# check first rows to make sure everything loaded correctly\n",
    "print(sales_df.head())\n",
    "print(customers_df.head())\n",
    "print(products_df.head())"
   ]
  },
  {
   "cell_type": "code",
   "execution_count": 122,
   "id": "79762b3c-d49d-4e88-be51-9fcc9c7e52db",
   "metadata": {},
   "outputs": [
    {
     "name": "stdout",
     "output_type": "stream",
     "text": [
      "0     2022-02-10 14:30:00\n",
      "1     2022-02-15 10:15:00\n",
      "2     2022-02-20 16:45:00\n",
      "3     2022-02-25 11:20:00\n",
      "4     2022-03-01 13:10:00\n",
      "              ...        \n",
      "145   2024-02-15 15:20:00\n",
      "146   2024-02-20 11:30:00\n",
      "147   2024-02-25 13:45:00\n",
      "148   2024-03-01 16:15:00\n",
      "149   2024-03-05 10:30:00\n",
      "Name: transaction_date, Length: 150, dtype: datetime64[ns]\n",
      "0    2022-01-15\n",
      "1    2022-01-22\n",
      "2    2022-02-03\n",
      "3    2022-02-14\n",
      "4    2022-02-28\n",
      "        ...    \n",
      "95   2023-12-08\n",
      "96   2023-12-15\n",
      "97   2023-12-22\n",
      "98   2023-12-29\n",
      "99   2024-01-05\n",
      "Name: registration_date, Length: 100, dtype: datetime64[ns]\n",
      "0    2021-03-15\n",
      "1    2021-04-20\n",
      "2    2021-05-10\n",
      "3    2021-06-01\n",
      "4    2021-06-15\n",
      "5    2021-07-08\n",
      "6    2021-07-22\n",
      "7    2021-08-05\n",
      "8    2021-08-18\n",
      "9    2021-09-02\n",
      "10   2021-09-16\n",
      "11   2021-10-01\n",
      "12   2021-10-15\n",
      "13   2021-11-01\n",
      "14   2021-11-12\n",
      "15   2021-11-28\n",
      "16   2021-12-10\n",
      "17   2021-12-22\n",
      "18   2022-01-08\n",
      "19   2022-01-20\n",
      "20   2022-02-03\n",
      "21   2022-02-17\n",
      "22   2022-03-01\n",
      "23   2022-03-15\n",
      "24   2022-03-28\n",
      "25   2022-04-10\n",
      "26   2022-04-22\n",
      "27   2022-05-05\n",
      "28   2022-05-18\n",
      "29   2022-06-01\n",
      "30   2022-06-14\n",
      "31   2022-06-28\n",
      "32   2022-07-10\n",
      "33   2022-07-23\n",
      "34   2022-08-05\n",
      "35   2022-08-18\n",
      "36   2022-09-01\n",
      "37   2022-09-14\n",
      "38   2022-09-27\n",
      "39   2022-10-10\n",
      "40   2022-10-23\n",
      "41   2022-11-05\n",
      "42   2022-11-18\n",
      "43   2022-12-01\n",
      "44   2022-12-14\n",
      "45   2022-12-27\n",
      "46   2023-01-09\n",
      "47   2023-01-22\n",
      "48   2023-02-04\n",
      "49   2023-02-17\n",
      "50   2023-03-02\n",
      "51   2023-03-15\n",
      "52   2023-03-28\n",
      "53   2023-04-10\n",
      "54   2023-04-23\n",
      "55   2023-05-06\n",
      "56   2023-05-19\n",
      "57   2023-06-01\n",
      "58   2023-06-14\n",
      "59   2023-06-27\n",
      "Name: launch_date, dtype: datetime64[ns]\n"
     ]
    }
   ],
   "source": [
    "# PART 1: DATETIME OPERATIONS\n",
    "# Convert date columns from strings to pandas datetime objects\n",
    "# pd.to_datetime() is the main function for converting various date formats\n",
    "# Once converted, we can perform date arithmetic and extract components\n",
    "\n",
    "sales_df['transaction_date'] = pd.to_datetime(sales_df['transaction_date'])\n",
    "customers_df['registration_date'] = pd.to_datetime(customers_df['registration_date'])\n",
    "products_df['launch_date']  = pd.to_datetime(products_df['launch_date'])\n",
    "\n",
    "print(sales_df['transaction_date'])\n",
    "print(customers_df['registration_date'])\n",
    "print(products_df['launch_date'])"
   ]
  },
  {
   "cell_type": "code",
   "execution_count": 123,
   "id": "a2c435bc-17a0-4327-882c-4dd42a63b004",
   "metadata": {},
   "outputs": [
    {
     "data": {
      "text/html": [
       "<div>\n",
       "<style scoped>\n",
       "    .dataframe tbody tr th:only-of-type {\n",
       "        vertical-align: middle;\n",
       "    }\n",
       "\n",
       "    .dataframe tbody tr th {\n",
       "        vertical-align: top;\n",
       "    }\n",
       "\n",
       "    .dataframe thead th {\n",
       "        text-align: right;\n",
       "    }\n",
       "</style>\n",
       "<table border=\"1\" class=\"dataframe\">\n",
       "  <thead>\n",
       "    <tr style=\"text-align: right;\">\n",
       "      <th></th>\n",
       "      <th>sale_id</th>\n",
       "      <th>customer_id</th>\n",
       "      <th>product_id</th>\n",
       "      <th>transaction_date</th>\n",
       "      <th>quantity</th>\n",
       "      <th>total_amount</th>\n",
       "      <th>month</th>\n",
       "      <th>day_of_week</th>\n",
       "      <th>year</th>\n",
       "    </tr>\n",
       "  </thead>\n",
       "  <tbody>\n",
       "    <tr>\n",
       "      <th>0</th>\n",
       "      <td>1</td>\n",
       "      <td>1</td>\n",
       "      <td>1</td>\n",
       "      <td>2022-02-10 14:30:00</td>\n",
       "      <td>1</td>\n",
       "      <td>79.99</td>\n",
       "      <td>2</td>\n",
       "      <td>Thursday</td>\n",
       "      <td>2022</td>\n",
       "    </tr>\n",
       "    <tr>\n",
       "      <th>1</th>\n",
       "      <td>2</td>\n",
       "      <td>2</td>\n",
       "      <td>3</td>\n",
       "      <td>2022-02-15 10:15:00</td>\n",
       "      <td>2</td>\n",
       "      <td>39.98</td>\n",
       "      <td>2</td>\n",
       "      <td>Tuesday</td>\n",
       "      <td>2022</td>\n",
       "    </tr>\n",
       "    <tr>\n",
       "      <th>2</th>\n",
       "      <td>3</td>\n",
       "      <td>3</td>\n",
       "      <td>5</td>\n",
       "      <td>2022-02-20 16:45:00</td>\n",
       "      <td>1</td>\n",
       "      <td>34.99</td>\n",
       "      <td>2</td>\n",
       "      <td>Sunday</td>\n",
       "      <td>2022</td>\n",
       "    </tr>\n",
       "    <tr>\n",
       "      <th>3</th>\n",
       "      <td>4</td>\n",
       "      <td>4</td>\n",
       "      <td>2</td>\n",
       "      <td>2022-02-25 11:20:00</td>\n",
       "      <td>3</td>\n",
       "      <td>74.97</td>\n",
       "      <td>2</td>\n",
       "      <td>Friday</td>\n",
       "      <td>2022</td>\n",
       "    </tr>\n",
       "    <tr>\n",
       "      <th>4</th>\n",
       "      <td>5</td>\n",
       "      <td>5</td>\n",
       "      <td>4</td>\n",
       "      <td>2022-03-01 13:10:00</td>\n",
       "      <td>1</td>\n",
       "      <td>89.99</td>\n",
       "      <td>3</td>\n",
       "      <td>Tuesday</td>\n",
       "      <td>2022</td>\n",
       "    </tr>\n",
       "    <tr>\n",
       "      <th>...</th>\n",
       "      <td>...</td>\n",
       "      <td>...</td>\n",
       "      <td>...</td>\n",
       "      <td>...</td>\n",
       "      <td>...</td>\n",
       "      <td>...</td>\n",
       "      <td>...</td>\n",
       "      <td>...</td>\n",
       "      <td>...</td>\n",
       "    </tr>\n",
       "    <tr>\n",
       "      <th>145</th>\n",
       "      <td>146</td>\n",
       "      <td>86</td>\n",
       "      <td>30</td>\n",
       "      <td>2024-02-15 15:20:00</td>\n",
       "      <td>1</td>\n",
       "      <td>34.99</td>\n",
       "      <td>2</td>\n",
       "      <td>Thursday</td>\n",
       "      <td>2024</td>\n",
       "    </tr>\n",
       "    <tr>\n",
       "      <th>146</th>\n",
       "      <td>147</td>\n",
       "      <td>87</td>\n",
       "      <td>32</td>\n",
       "      <td>2024-02-20 11:30:00</td>\n",
       "      <td>3</td>\n",
       "      <td>83.97</td>\n",
       "      <td>2</td>\n",
       "      <td>Tuesday</td>\n",
       "      <td>2024</td>\n",
       "    </tr>\n",
       "    <tr>\n",
       "      <th>147</th>\n",
       "      <td>148</td>\n",
       "      <td>88</td>\n",
       "      <td>34</td>\n",
       "      <td>2024-02-25 13:45:00</td>\n",
       "      <td>2</td>\n",
       "      <td>109.98</td>\n",
       "      <td>2</td>\n",
       "      <td>Sunday</td>\n",
       "      <td>2024</td>\n",
       "    </tr>\n",
       "    <tr>\n",
       "      <th>148</th>\n",
       "      <td>149</td>\n",
       "      <td>89</td>\n",
       "      <td>36</td>\n",
       "      <td>2024-03-01 16:15:00</td>\n",
       "      <td>1</td>\n",
       "      <td>29.99</td>\n",
       "      <td>3</td>\n",
       "      <td>Friday</td>\n",
       "      <td>2024</td>\n",
       "    </tr>\n",
       "    <tr>\n",
       "      <th>149</th>\n",
       "      <td>150</td>\n",
       "      <td>90</td>\n",
       "      <td>38</td>\n",
       "      <td>2024-03-05 10:30:00</td>\n",
       "      <td>4</td>\n",
       "      <td>139.96</td>\n",
       "      <td>3</td>\n",
       "      <td>Tuesday</td>\n",
       "      <td>2024</td>\n",
       "    </tr>\n",
       "  </tbody>\n",
       "</table>\n",
       "<p>150 rows × 9 columns</p>\n",
       "</div>"
      ],
      "text/plain": [
       "     sale_id  customer_id  product_id    transaction_date  quantity  \\\n",
       "0          1            1           1 2022-02-10 14:30:00         1   \n",
       "1          2            2           3 2022-02-15 10:15:00         2   \n",
       "2          3            3           5 2022-02-20 16:45:00         1   \n",
       "3          4            4           2 2022-02-25 11:20:00         3   \n",
       "4          5            5           4 2022-03-01 13:10:00         1   \n",
       "..       ...          ...         ...                 ...       ...   \n",
       "145      146           86          30 2024-02-15 15:20:00         1   \n",
       "146      147           87          32 2024-02-20 11:30:00         3   \n",
       "147      148           88          34 2024-02-25 13:45:00         2   \n",
       "148      149           89          36 2024-03-01 16:15:00         1   \n",
       "149      150           90          38 2024-03-05 10:30:00         4   \n",
       "\n",
       "     total_amount  month day_of_week  year  \n",
       "0           79.99      2    Thursday  2022  \n",
       "1           39.98      2     Tuesday  2022  \n",
       "2           34.99      2      Sunday  2022  \n",
       "3           74.97      2      Friday  2022  \n",
       "4           89.99      3     Tuesday  2022  \n",
       "..            ...    ...         ...   ...  \n",
       "145         34.99      2    Thursday  2024  \n",
       "146         83.97      2     Tuesday  2024  \n",
       "147        109.98      2      Sunday  2024  \n",
       "148         29.99      3      Friday  2024  \n",
       "149        139.96      3     Tuesday  2024  \n",
       "\n",
       "[150 rows x 9 columns]"
      ]
     },
     "execution_count": 123,
     "metadata": {},
     "output_type": "execute_result"
    }
   ],
   "source": [
    "# Extract useful components from the sales transaction dates: year, month, and day of week\n",
    "sales_df['month'] = sales_df['transaction_date'].dt.month\n",
    "sales_df['day_of_week'] = sales_df['transaction_date'].dt.day_name()\n",
    "sales_df['year'] = sales_df['transaction_date'].dt.to_period('Y')\n",
    "sales_df"
   ]
  },
  {
   "cell_type": "code",
   "execution_count": 124,
   "id": "4b651f4f-694f-4edb-9bf3-1eb940612e1b",
   "metadata": {},
   "outputs": [
    {
     "name": "stdout",
     "output_type": "stream",
     "text": [
      "Earliest date: 2022-02-10 14:30:00\n",
      "Latest date: 2024-03-05 10:30:00\n"
     ]
    }
   ],
   "source": [
    "# Display the date range covered by your sales data (earliest and latest dates)\n",
    "\n",
    "earliest_date = sales_df['transaction_date'].min()\n",
    "latest_date = sales_df['transaction_date'].max()\n",
    "print(f\"Earliest date: {sales_df['transaction_date'].min()}\")\n",
    "print(f\"Latest date: {sales_df['transaction_date'].max()}\")\n"
   ]
  },
  {
   "cell_type": "code",
   "execution_count": 125,
   "id": "db4a820c-6bee-424d-988c-aa0ebf252522",
   "metadata": {},
   "outputs": [
    {
     "name": "stdout",
     "output_type": "stream",
     "text": [
      "Transaction counts by day of week:\n",
      "day_of_week\n",
      "Friday       24\n",
      "Tuesday      22\n",
      "Thursday     21\n",
      "Sunday       21\n",
      "Saturday     21\n",
      "Wednesday    21\n",
      "Monday       20\n",
      "Name: count, dtype: int64\n"
     ]
    }
   ],
   "source": [
    "# 2: Basic Time Analysis:\n",
    "#Find the busiest day of the week for sales (by counting transactions)\n",
    "day_counts = sales_df['day_of_week'].value_counts()\n",
    "\n",
    "# Display the results\n",
    "print(\"Transaction counts by day of week:\")\n",
    "print(day_counts)\n"
   ]
  },
  {
   "cell_type": "code",
   "execution_count": 126,
   "id": "59e9524c-dc3e-48e7-9085-a5e13140e29d",
   "metadata": {},
   "outputs": [
    {
     "name": "stdout",
     "output_type": "stream",
     "text": [
      "Months with the most transaction:\n",
      "month\n",
      "2     16\n",
      "3     14\n",
      "12    14\n",
      "4     12\n",
      "5     12\n",
      "6     12\n",
      "8     12\n",
      "7     12\n",
      "9     12\n",
      "10    12\n",
      "11    12\n",
      "1     10\n",
      "Name: count, dtype: int64\n"
     ]
    }
   ],
   "source": [
    "#Determine which month had the most transactions\n",
    "monthly_transaction_counts = sales_df['month'].value_counts()\n",
    "print(\"Months with the most transaction:\")\n",
    "print(monthly_transaction_counts)\n",
    "\n"
   ]
  },
  {
   "cell_type": "code",
   "execution_count": 127,
   "id": "451b80f0-0041-4589-b18b-5c50f878d352",
   "metadata": {},
   "outputs": [
    {
     "name": "stdout",
     "output_type": "stream",
     "text": [
      "Number of sales transactions by year:\n",
      "year\n",
      "2022    65\n",
      "2023    72\n",
      "2024    13\n",
      "Freq: Y-DEC, Name: count, dtype: int64\n"
     ]
    }
   ],
   "source": [
    "#Count how many sales happened in each year\n",
    "yearly_sales_count = sales_df['year'].value_counts().sort_index()\n",
    "\n",
    "print(\"Number of sales transactions by year:\")\n",
    "print(yearly_sales_count)\n"
   ]
  },
  {
   "cell_type": "code",
   "execution_count": 128,
   "id": "44543371-9cc7-45d5-8bb3-32e3e6525437",
   "metadata": {},
   "outputs": [
    {
     "name": "stdout",
     "output_type": "stream",
     "text": [
      "category\n",
      "Accessories           35.073333\n",
      "Clothing              52.240000\n",
      "Electronics           59.990000\n",
      "Home & Garden         30.156667\n",
      "Sports & Outdoors    105.899091\n",
      "Name: price, dtype: float64\n"
     ]
    }
   ],
   "source": [
    "#Part 2: GroupBy and Aggregation\n",
    "#Product Analysis:\n",
    "#Part 2: GroupBy and Aggregation\n",
    "#Group products by category and calculate the average price for each category\n",
    "category_avg_prices = products_df.groupby('category')['price'].mean()\n",
    "print(category_avg_prices)\n"
   ]
  },
  {
   "cell_type": "code",
   "execution_count": 129,
   "id": "662cf110-829e-41de-a372-3a6a7cf8725b",
   "metadata": {},
   "outputs": [
    {
     "name": "stdout",
     "output_type": "stream",
     "text": [
      "Number of products in each category:\n",
      "category\n",
      "Electronics          13\n",
      "Clothing             12\n",
      "Home & Garden        12\n",
      "Accessories          12\n",
      "Sports & Outdoors    11\n",
      "Name: count, dtype: int64\n"
     ]
    }
   ],
   "source": [
    "#Count how many products are in each category\n",
    "products_per_category = products_df['category'].value_counts()\n",
    "\n",
    "print(\"Number of products in each category:\")\n",
    "print(products_per_category)"
   ]
  },
  {
   "cell_type": "code",
   "execution_count": 130,
   "id": "d71112e9-afd3-4d0d-9634-76424560caa9",
   "metadata": {},
   "outputs": [
    {
     "name": "stdout",
     "output_type": "stream",
     "text": [
      "Number of customers per state:\n",
      "  state  total_customers\n",
      "0    CA               20\n",
      "1    FL               20\n",
      "2    IL               20\n",
      "3    NY               20\n",
      "4    TX               20\n"
     ]
    }
   ],
   "source": [
    "#Customer Analysis:\n",
    "# Group customers by state and find the average age in each state\n",
    "customer_per_state = customers_df['state'].value_counts()\n",
    "state_by_customers = (\n",
    "    customers_df.groupby('state')['customer_id'].count()\n",
    "    .reset_index(name = 'total_customers')\n",
    "    .sort_values(by = 'total_customers', ascending = False)\n",
    ")\n",
    "print ('Number of customers per state:')\n",
    "print (state_by_customers)"
   ]
  },
  {
   "cell_type": "code",
   "execution_count": 131,
   "id": "de486ff9-2ad3-4bb6-9b92-fefbdf6799c4",
   "metadata": {},
   "outputs": [
    {
     "name": "stdout",
     "output_type": "stream",
     "text": [
      "Total Spending per Customer\n",
      "customer_id\n",
      "1    229.98\n",
      "2    179.96\n",
      "3    154.98\n",
      "4    234.95\n",
      "5    149.98\n",
      "Name: total_amount, dtype: float64\n"
     ]
    }
   ],
   "source": [
    "#Calculate total spending per customer (sum up all their purchases)\n",
    "total_spending = sales_df.groupby(\"customer_id\")[\"total_amount\"].sum()\n",
    "print(\"Total Spending per Customer\")\n",
    "print(total_spending.head())"
   ]
  },
  {
   "cell_type": "code",
   "execution_count": 132,
   "id": "fa8031bc-9557-466c-a373-ded06224fcd4",
   "metadata": {},
   "outputs": [
    {
     "name": "stdout",
     "output_type": "stream",
     "text": [
      "Customers with most purchases\n",
      "   customer_id  transactions\n",
      "0            1             2\n",
      "1            2             2\n",
      "2            3             2\n",
      "3            4             2\n",
      "4            5             2\n"
     ]
    }
   ],
   "source": [
    "#Find customers who have made the most purchases\n",
    "purchase_counts = sales_df['customer_id'].value_counts()\n",
    "purchase_counts.columns = ['customer_id', 'num_purchases']\n",
    "customer_transactions = (\n",
    "    sales_df.groupby('customer_id')['sale_id'].count()\n",
    "    .reset_index(name = 'transactions')\n",
    "    .sort_values(by = 'transactions', ascending = False)\n",
    ")\n",
    "print('Customers with most purchases')\n",
    "print(customer_transactions.head())"
   ]
  },
  {
   "cell_type": "code",
   "execution_count": 133,
   "id": "708a507b-516a-4b83-bf94-caf4dc49406e",
   "metadata": {},
   "outputs": [
    {
     "name": "stdout",
     "output_type": "stream",
     "text": [
      "Total Sales Revenue by Month\n",
      "month\n",
      "2022-02    229.93\n",
      "2022-03    504.92\n",
      "2022-04    415.90\n",
      "2022-05    450.90\n",
      "2022-06    502.84\n",
      "2022-07    485.90\n",
      "2022-08    376.87\n",
      "2022-09    660.90\n",
      "2022-10    493.90\n",
      "2022-11    481.89\n",
      "2022-12    730.85\n",
      "2023-01    384.91\n",
      "2023-02    750.87\n",
      "2023-03    440.90\n",
      "2023-04    508.87\n",
      "2023-05    726.89\n",
      "2023-06    483.84\n",
      "2023-07    444.90\n",
      "2023-08    493.87\n",
      "2023-09    489.86\n",
      "2023-10    741.90\n",
      "2023-11    540.87\n",
      "2023-12    727.86\n",
      "2024-01    479.88\n",
      "2024-02    688.86\n",
      "2024-03    169.95\n",
      "Freq: M, Name: total_amount, dtype: float64\n"
     ]
    }
   ],
   "source": [
    "#Sales Analysis:\n",
    "# Calculate total sales revenue by month\n",
    "\n",
    "sales_df['month'] = sales_df['transaction_date'].dt.to_period('M')\n",
    "monthly_revenue = sales_df.groupby('month')['total_amount'].sum()\n",
    "\n",
    "print('Total Sales Revenue by Month')\n",
    "print(monthly_revenue)"
   ]
  },
  {
   "cell_type": "code",
   "execution_count": 134,
   "id": "90da507a-325a-4ba9-b7c2-59175520ffae",
   "metadata": {},
   "outputs": [
    {
     "name": "stdout",
     "output_type": "stream",
     "text": [
      "Average Transaction Amount by Day of Week:\n",
      "day_of_week\n",
      "Friday       100.940833\n",
      "Monday        90.927500\n",
      "Saturday      61.121905\n",
      "Sunday        99.551429\n",
      "Thursday     102.267619\n",
      "Tuesday       74.028636\n",
      "Wednesday     96.071905\n",
      "Name: total_amount, dtype: float64\n"
     ]
    }
   ],
   "source": [
    "#Find the average transaction amount by day of the week\n",
    "average_by_day = sales_df.groupby('day_of_week')['total_amount'].mean()\n",
    "\n",
    "print(\"Average Transaction Amount by Day of Week:\")\n",
    "print(average_by_day)"
   ]
  },
  {
   "cell_type": "code",
   "execution_count": 135,
   "id": "0f628f84-afcf-47e8-9978-5b532b45274e",
   "metadata": {},
   "outputs": [
    {
     "name": "stdout",
     "output_type": "stream",
     "text": [
      "product category generates the most total revenue\n",
      "category\n",
      "Sports & Outdoors    1164.89\n",
      "Electronics           779.87\n",
      "Clothing              626.88\n",
      "Accessories           420.88\n",
      "Home & Garden         361.88\n",
      "Name: price, dtype: float64\n"
     ]
    }
   ],
   "source": [
    "#Determine which product category generates the most total revenue\n",
    "category_revenue = products_df.groupby('category')['price'].sum().sort_values(ascending = False)\n",
    "top_revenue = category_revenue.max()\n",
    "\n",
    "\n",
    "print ('product category generates the most total revenue')\n",
    "print (category_revenue)"
   ]
  },
  {
   "cell_type": "code",
   "execution_count": 137,
   "id": "213291d5-11a5-4d09-ada7-6e4e07bafcf1",
   "metadata": {},
   "outputs": [
    {
     "name": "stdout",
     "output_type": "stream",
     "text": [
      "State with the most customers\n",
      "state\n",
      "CA    20\n",
      "Name: count, dtype: int64\n"
     ]
    }
   ],
   "source": [
    "# Part 3: Basic Data Insights\n",
    "# Simple Comparisons:\n",
    "# Find which state has the most customers\n",
    "most_customers = customers_df['state'].value_counts()\n",
    "top_count = most_customers.max()\n",
    "print('State with the most customers')\n",
    "print(most_customers.head(1)) "
   ]
  },
  {
   "cell_type": "code",
   "execution_count": 138,
   "id": "6958a7a5-6815-435d-b222-3f1e15dcca22",
   "metadata": {},
   "outputs": [
    {
     "name": "stdout",
     "output_type": "stream",
     "text": [
      "Top 5 customers by total spending:\n",
      "customer_id\n",
      "31    379.97\n",
      "13    359.96\n",
      "41    329.98\n",
      "84    319.98\n",
      "30    284.98\n",
      "Name: total_amount, dtype: float64\n"
     ]
    }
   ],
   "source": [
    "# Identify the top 5 customers by total spending\n",
    "top_customers = (\n",
    "    sales_df.groupby('customer_id')['total_amount']\n",
    "    .sum()\n",
    "    .sort_values(ascending=False)\n",
    "\n",
    ")\n",
    "print(\"Top 5 customers by total spending:\")\n",
    "print(top_customers.head(5))"
   ]
  },
  {
   "cell_type": "code",
   "execution_count": 139,
   "id": "c80e6d6f-09ee-49e7-8d8c-2abb062ba625",
   "metadata": {},
   "outputs": [
    {
     "name": "stdout",
     "output_type": "stream",
     "text": [
      "Average transaction value by day of the week:\n",
      "day_of_week\n",
      "Thursday     102.267619\n",
      "Friday       100.940833\n",
      "Sunday        99.551429\n",
      "Wednesday     96.071905\n",
      "Monday        90.927500\n",
      "Tuesday       74.028636\n",
      "Saturday      61.121905\n",
      "Name: total_amount, dtype: float64\n"
     ]
    }
   ],
   "source": [
    "# Determine which day of the week has the highest average transaction value\n",
    "sales_df['transaction_date'] = pd.to_datetime(sales_df['transaction_date'])\n",
    "\n",
    "sales_df['day_of_week'] = sales_df['transaction_date'].dt.day_name()\n",
    "avg_transaction_by_day = sales_df.groupby('day_of_week')['total_amount'].mean()\n",
    "avg_transaction_by_day = avg_transaction_by_day.sort_values(ascending=False)\n",
    "\n",
    "print(\"Average transaction value by day of the week:\")\n",
    "print(avg_transaction_by_day)\n",
    "\n",
    "\n"
   ]
  },
  {
   "cell_type": "markdown",
   "id": "d528c06d-48ca-45bb-8d74-e5f180dd00ec",
   "metadata": {},
   "source": [
    "#### Discussion Questions\n",
    "#### 1.DateTime Benefits: How can extracting day of the week and month from dates help a retail business make better decisions?\n",
    "#### This can help Identify sales trends by analyzing which days or months have the highest or lowest sales, businesses can spot patterns. \n",
    "#### 2.GroupBy Value: Why is it useful to group data by categories, states, or time periods rather than looking at individual transactions?\n",
    "#### Grouping data Simplifies reporting. Grouped data provides digestible insights for people and companies , rather than overwhelming them.\n",
    "#### 3.Business Applications: Based on your findings, what simple recommendations would you give to help the retail chain improve their performance?\n",
    "#### Based on the findings, the simple recommendations I would give to help the retail chain improve their performance would be to focus promotions on slow days and months. If data shows low sales on Tuesdays or in February, targeted marketing can lift those periods.\n"
   ]
  },
  {
   "cell_type": "code",
   "execution_count": null,
   "id": "75e42dc1-5303-44b3-919a-9367055bbf5e",
   "metadata": {},
   "outputs": [],
   "source": []
  }
 ],
 "metadata": {
  "kernelspec": {
   "display_name": "Python [conda env:base] *",
   "language": "python",
   "name": "conda-base-py"
  },
  "language_info": {
   "codemirror_mode": {
    "name": "ipython",
    "version": 3
   },
   "file_extension": ".py",
   "mimetype": "text/x-python",
   "name": "python",
   "nbconvert_exporter": "python",
   "pygments_lexer": "ipython3",
   "version": "3.13.5"
  }
 },
 "nbformat": 4,
 "nbformat_minor": 5
}
